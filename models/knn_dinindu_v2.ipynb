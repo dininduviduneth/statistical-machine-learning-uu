{
 "cells": [
  {
   "cell_type": "markdown",
   "metadata": {},
   "source": [
    "# K-Nearest Neighbor Model Implementation\n"
   ]
  },
  {
   "cell_type": "markdown",
   "metadata": {},
   "source": [
    "### STEPS:\n",
    "\n",
    "#### INITIAL MODEL\n",
    "\n",
    "---\n",
    "\n",
    "1. Load train data (have to split this dataset as training and testing)\n",
    "2. Assess the requirement for normalization\n",
    "3. Normalize the data IF required\n",
    "4. Split train / test datasets\n",
    "5. Fit the model for K = 1 (write it in an iterable way)\n",
    "6. Predict test data --> build confusion matrix --> calculate accuracy / calculate missclassification error\n",
    "\n",
    "#### FEATURE ITERATION\n",
    "\n",
    "---\n",
    "\n",
    "1. Write a function to get all possible feature combinations into a 2D list\n",
    "2. Parameterize INITIAL MODEL to take a set of features and predict\n",
    "3. Provide an output of the results (for each K value which gives the lowest Missclassification Error)\n",
    "\n",
    "#### FINAL MODEL EVALUATION\n",
    "\n",
    "---\n",
    "\n",
    "1. Write a function to take feature combinations in iteratively and run the model\n",
    "2. Save the output of each iteration into a list to be taken for evaluation\n"
   ]
  },
  {
   "cell_type": "markdown",
   "metadata": {},
   "source": [
    "#### IMPORTS\n"
   ]
  },
  {
   "cell_type": "code",
   "execution_count": 1,
   "metadata": {},
   "outputs": [],
   "source": [
    "import numpy as np\n",
    "import pandas as pd\n",
    "import sklearn.neighbors as skl_nb\n",
    "import sklearn.model_selection as skl_ms\n",
    "import matplotlib.pyplot as plt\n",
    "\n",
    "import sys\n",
    "sys.path.append(\"..\")\n",
    "\n",
    "from utils.loading_data  import load_to_df_from_csv, get_all_feature_combinations\n",
    "from utils.knn_functions import find_best_k_with_misclassification, plot_misclassification, model_iterator"
   ]
  },
  {
   "cell_type": "markdown",
   "metadata": {},
   "source": [
    "#### STEP 1: LOADING DATA\n"
   ]
  },
  {
   "cell_type": "code",
   "execution_count": 2,
   "metadata": {},
   "outputs": [],
   "source": [
    "# Loading the train.csv as the main dataset\n",
    "data = load_to_df_from_csv(\"../data/train.csv\")\n",
    "\n",
    "# Column Transformation to lowercase and underscored spaces\n",
    "data.columns = data.columns.str.replace(' ', '_')\n",
    "data.columns = data.columns.str.replace('-', '_')\n",
    "data.columns = data.columns.str.lower()\n"
   ]
  },
  {
   "cell_type": "markdown",
   "metadata": {},
   "source": [
    "### Exploring data\n"
   ]
  },
  {
   "cell_type": "code",
   "execution_count": 3,
   "metadata": {},
   "outputs": [
    {
     "data": {
      "text/plain": [
       "(1039, 14)"
      ]
     },
     "execution_count": 3,
     "metadata": {},
     "output_type": "execute_result"
    }
   ],
   "source": [
    "data.shape\n"
   ]
  },
  {
   "cell_type": "code",
   "execution_count": 4,
   "metadata": {},
   "outputs": [
    {
     "data": {
      "text/html": [
       "<div>\n",
       "<style scoped>\n",
       "    .dataframe tbody tr th:only-of-type {\n",
       "        vertical-align: middle;\n",
       "    }\n",
       "\n",
       "    .dataframe tbody tr th {\n",
       "        vertical-align: top;\n",
       "    }\n",
       "\n",
       "    .dataframe thead th {\n",
       "        text-align: right;\n",
       "    }\n",
       "</style>\n",
       "<table border=\"1\" class=\"dataframe\">\n",
       "  <thead>\n",
       "    <tr style=\"text-align: right;\">\n",
       "      <th></th>\n",
       "      <th>number_words_female</th>\n",
       "      <th>total_words</th>\n",
       "      <th>number_of_words_lead</th>\n",
       "      <th>difference_in_words_lead_and_co_lead</th>\n",
       "      <th>number_of_male_actors</th>\n",
       "      <th>year</th>\n",
       "      <th>number_of_female_actors</th>\n",
       "      <th>number_words_male</th>\n",
       "      <th>gross</th>\n",
       "      <th>mean_age_male</th>\n",
       "      <th>mean_age_female</th>\n",
       "      <th>age_lead</th>\n",
       "      <th>age_co_lead</th>\n",
       "    </tr>\n",
       "  </thead>\n",
       "  <tbody>\n",
       "    <tr>\n",
       "      <th>count</th>\n",
       "      <td>1039.000000</td>\n",
       "      <td>1039.000000</td>\n",
       "      <td>1039.000000</td>\n",
       "      <td>1039.000000</td>\n",
       "      <td>1039.000000</td>\n",
       "      <td>1039.000000</td>\n",
       "      <td>1039.000000</td>\n",
       "      <td>1039.000000</td>\n",
       "      <td>1039.000000</td>\n",
       "      <td>1039.000000</td>\n",
       "      <td>1039.000000</td>\n",
       "      <td>1039.000000</td>\n",
       "      <td>1039.000000</td>\n",
       "    </tr>\n",
       "    <tr>\n",
       "      <th>mean</th>\n",
       "      <td>2334.256015</td>\n",
       "      <td>11004.368624</td>\n",
       "      <td>4108.256978</td>\n",
       "      <td>2525.024062</td>\n",
       "      <td>7.767084</td>\n",
       "      <td>1999.862368</td>\n",
       "      <td>3.507218</td>\n",
       "      <td>4561.855630</td>\n",
       "      <td>111.149182</td>\n",
       "      <td>42.353766</td>\n",
       "      <td>35.929588</td>\n",
       "      <td>38.716073</td>\n",
       "      <td>35.486044</td>\n",
       "    </tr>\n",
       "    <tr>\n",
       "      <th>std</th>\n",
       "      <td>2157.216744</td>\n",
       "      <td>6817.397413</td>\n",
       "      <td>2981.251156</td>\n",
       "      <td>2498.747279</td>\n",
       "      <td>3.901439</td>\n",
       "      <td>10.406632</td>\n",
       "      <td>2.088526</td>\n",
       "      <td>3417.855987</td>\n",
       "      <td>151.761551</td>\n",
       "      <td>7.817110</td>\n",
       "      <td>8.957193</td>\n",
       "      <td>12.285902</td>\n",
       "      <td>12.046696</td>\n",
       "    </tr>\n",
       "    <tr>\n",
       "      <th>min</th>\n",
       "      <td>0.000000</td>\n",
       "      <td>1351.000000</td>\n",
       "      <td>318.000000</td>\n",
       "      <td>1.000000</td>\n",
       "      <td>1.000000</td>\n",
       "      <td>1939.000000</td>\n",
       "      <td>1.000000</td>\n",
       "      <td>0.000000</td>\n",
       "      <td>0.000000</td>\n",
       "      <td>19.000000</td>\n",
       "      <td>11.000000</td>\n",
       "      <td>11.000000</td>\n",
       "      <td>7.000000</td>\n",
       "    </tr>\n",
       "    <tr>\n",
       "      <th>25%</th>\n",
       "      <td>904.000000</td>\n",
       "      <td>6353.500000</td>\n",
       "      <td>2077.000000</td>\n",
       "      <td>814.500000</td>\n",
       "      <td>5.000000</td>\n",
       "      <td>1994.000000</td>\n",
       "      <td>2.000000</td>\n",
       "      <td>2139.500000</td>\n",
       "      <td>22.000000</td>\n",
       "      <td>37.480769</td>\n",
       "      <td>29.500000</td>\n",
       "      <td>30.000000</td>\n",
       "      <td>28.000000</td>\n",
       "    </tr>\n",
       "    <tr>\n",
       "      <th>50%</th>\n",
       "      <td>1711.000000</td>\n",
       "      <td>9147.000000</td>\n",
       "      <td>3297.000000</td>\n",
       "      <td>1834.000000</td>\n",
       "      <td>7.000000</td>\n",
       "      <td>2000.000000</td>\n",
       "      <td>3.000000</td>\n",
       "      <td>3824.000000</td>\n",
       "      <td>60.000000</td>\n",
       "      <td>42.600000</td>\n",
       "      <td>35.000000</td>\n",
       "      <td>38.000000</td>\n",
       "      <td>34.000000</td>\n",
       "    </tr>\n",
       "    <tr>\n",
       "      <th>75%</th>\n",
       "      <td>3030.500000</td>\n",
       "      <td>13966.500000</td>\n",
       "      <td>5227.000000</td>\n",
       "      <td>3364.000000</td>\n",
       "      <td>10.000000</td>\n",
       "      <td>2009.000000</td>\n",
       "      <td>5.000000</td>\n",
       "      <td>5887.500000</td>\n",
       "      <td>143.500000</td>\n",
       "      <td>47.333333</td>\n",
       "      <td>41.500000</td>\n",
       "      <td>46.000000</td>\n",
       "      <td>41.000000</td>\n",
       "    </tr>\n",
       "    <tr>\n",
       "      <th>max</th>\n",
       "      <td>17658.000000</td>\n",
       "      <td>67548.000000</td>\n",
       "      <td>28102.000000</td>\n",
       "      <td>25822.000000</td>\n",
       "      <td>29.000000</td>\n",
       "      <td>2015.000000</td>\n",
       "      <td>16.000000</td>\n",
       "      <td>31146.000000</td>\n",
       "      <td>1798.000000</td>\n",
       "      <td>71.000000</td>\n",
       "      <td>81.333333</td>\n",
       "      <td>81.000000</td>\n",
       "      <td>85.000000</td>\n",
       "    </tr>\n",
       "  </tbody>\n",
       "</table>\n",
       "</div>"
      ],
      "text/plain": [
       "       number_words_female   total_words  number_of_words_lead  \\\n",
       "count          1039.000000   1039.000000           1039.000000   \n",
       "mean           2334.256015  11004.368624           4108.256978   \n",
       "std            2157.216744   6817.397413           2981.251156   \n",
       "min               0.000000   1351.000000            318.000000   \n",
       "25%             904.000000   6353.500000           2077.000000   \n",
       "50%            1711.000000   9147.000000           3297.000000   \n",
       "75%            3030.500000  13966.500000           5227.000000   \n",
       "max           17658.000000  67548.000000          28102.000000   \n",
       "\n",
       "       difference_in_words_lead_and_co_lead  number_of_male_actors  \\\n",
       "count                           1039.000000            1039.000000   \n",
       "mean                            2525.024062               7.767084   \n",
       "std                             2498.747279               3.901439   \n",
       "min                                1.000000               1.000000   \n",
       "25%                              814.500000               5.000000   \n",
       "50%                             1834.000000               7.000000   \n",
       "75%                             3364.000000              10.000000   \n",
       "max                            25822.000000              29.000000   \n",
       "\n",
       "              year  number_of_female_actors  number_words_male        gross  \\\n",
       "count  1039.000000              1039.000000        1039.000000  1039.000000   \n",
       "mean   1999.862368                 3.507218        4561.855630   111.149182   \n",
       "std      10.406632                 2.088526        3417.855987   151.761551   \n",
       "min    1939.000000                 1.000000           0.000000     0.000000   \n",
       "25%    1994.000000                 2.000000        2139.500000    22.000000   \n",
       "50%    2000.000000                 3.000000        3824.000000    60.000000   \n",
       "75%    2009.000000                 5.000000        5887.500000   143.500000   \n",
       "max    2015.000000                16.000000       31146.000000  1798.000000   \n",
       "\n",
       "       mean_age_male  mean_age_female     age_lead  age_co_lead  \n",
       "count    1039.000000      1039.000000  1039.000000  1039.000000  \n",
       "mean       42.353766        35.929588    38.716073    35.486044  \n",
       "std         7.817110         8.957193    12.285902    12.046696  \n",
       "min        19.000000        11.000000    11.000000     7.000000  \n",
       "25%        37.480769        29.500000    30.000000    28.000000  \n",
       "50%        42.600000        35.000000    38.000000    34.000000  \n",
       "75%        47.333333        41.500000    46.000000    41.000000  \n",
       "max        71.000000        81.333333    81.000000    85.000000  "
      ]
     },
     "execution_count": 4,
     "metadata": {},
     "output_type": "execute_result"
    }
   ],
   "source": [
    "data.describe()\n"
   ]
  },
  {
   "cell_type": "markdown",
   "metadata": {},
   "source": [
    "### STEP 2: SPLIT TRAIN / TEST DATASETS\n"
   ]
  },
  {
   "cell_type": "code",
   "execution_count": 5,
   "metadata": {},
   "outputs": [],
   "source": [
    "X_train, X_test, y_train, y_test = skl_ms.train_test_split(\n",
    "    data.iloc[:, 0:data.shape[1] - 1], data.iloc[:, -1], test_size=0.30, random_state=123)\n"
   ]
  },
  {
   "cell_type": "markdown",
   "metadata": {},
   "source": [
    "### STEP 3: GET ALL FEATURE COMBINATIONS TO A LIST\n"
   ]
  },
  {
   "cell_type": "code",
   "execution_count": 6,
   "metadata": {},
   "outputs": [],
   "source": [
    "feature_combinations = get_all_feature_combinations(X_train.columns)\n",
    "\n",
    "# feature_combinations[8191]\n"
   ]
  },
  {
   "cell_type": "markdown",
   "metadata": {},
   "source": [
    "### STEP 4: RUN THE MODEL FOR EACH FEATURE COMBINATION AND FIND THE BEST K VALUE WITH IT'S MISCLASSIFICATION FOR EACH \n"
   ]
  },
  {
   "cell_type": "code",
   "execution_count": 7,
   "metadata": {},
   "outputs": [
    {
     "name": "stderr",
     "output_type": "stream",
     "text": [
      "/Users/dininduseneviratne/Library/CloudStorage/OneDrive-Uppsalauniversitet/Statistical Machine Learning/sml-project-g20/models/../utils/knn_functions.py:58: FutureWarning: The frame.append method is deprecated and will be removed from pandas in a future version. Use pandas.concat instead.\n",
      "  results = results.append(row, ignore_index=True)\n",
      "/Users/dininduseneviratne/Library/CloudStorage/OneDrive-Uppsalauniversitet/Statistical Machine Learning/sml-project-g20/models/../utils/knn_functions.py:58: FutureWarning: The frame.append method is deprecated and will be removed from pandas in a future version. Use pandas.concat instead.\n",
      "  results = results.append(row, ignore_index=True)\n",
      "/Users/dininduseneviratne/Library/CloudStorage/OneDrive-Uppsalauniversitet/Statistical Machine Learning/sml-project-g20/models/../utils/knn_functions.py:58: FutureWarning: The frame.append method is deprecated and will be removed from pandas in a future version. Use pandas.concat instead.\n",
      "  results = results.append(row, ignore_index=True)\n",
      "/Users/dininduseneviratne/Library/CloudStorage/OneDrive-Uppsalauniversitet/Statistical Machine Learning/sml-project-g20/models/../utils/knn_functions.py:58: FutureWarning: The frame.append method is deprecated and will be removed from pandas in a future version. Use pandas.concat instead.\n",
      "  results = results.append(row, ignore_index=True)\n",
      "/Users/dininduseneviratne/Library/CloudStorage/OneDrive-Uppsalauniversitet/Statistical Machine Learning/sml-project-g20/models/../utils/knn_functions.py:58: FutureWarning: The frame.append method is deprecated and will be removed from pandas in a future version. Use pandas.concat instead.\n",
      "  results = results.append(row, ignore_index=True)\n",
      "/Users/dininduseneviratne/Library/CloudStorage/OneDrive-Uppsalauniversitet/Statistical Machine Learning/sml-project-g20/models/../utils/knn_functions.py:58: FutureWarning: The frame.append method is deprecated and will be removed from pandas in a future version. Use pandas.concat instead.\n",
      "  results = results.append(row, ignore_index=True)\n",
      "/Users/dininduseneviratne/Library/CloudStorage/OneDrive-Uppsalauniversitet/Statistical Machine Learning/sml-project-g20/models/../utils/knn_functions.py:58: FutureWarning: The frame.append method is deprecated and will be removed from pandas in a future version. Use pandas.concat instead.\n",
      "  results = results.append(row, ignore_index=True)\n",
      "/Users/dininduseneviratne/Library/CloudStorage/OneDrive-Uppsalauniversitet/Statistical Machine Learning/sml-project-g20/models/../utils/knn_functions.py:58: FutureWarning: The frame.append method is deprecated and will be removed from pandas in a future version. Use pandas.concat instead.\n",
      "  results = results.append(row, ignore_index=True)\n",
      "/Users/dininduseneviratne/Library/CloudStorage/OneDrive-Uppsalauniversitet/Statistical Machine Learning/sml-project-g20/models/../utils/knn_functions.py:58: FutureWarning: The frame.append method is deprecated and will be removed from pandas in a future version. Use pandas.concat instead.\n",
      "  results = results.append(row, ignore_index=True)\n",
      "/Users/dininduseneviratne/Library/CloudStorage/OneDrive-Uppsalauniversitet/Statistical Machine Learning/sml-project-g20/models/../utils/knn_functions.py:58: FutureWarning: The frame.append method is deprecated and will be removed from pandas in a future version. Use pandas.concat instead.\n",
      "  results = results.append(row, ignore_index=True)\n"
     ]
    }
   ],
   "source": [
    "# 8191 if needed to run for all combinations\n",
    "results = model_iterator(X_train, y_train, X_test, y_test, feature_combinations, iterations=10)\n",
    "\n",
    "# results.to_csv(r'/Users/dininduseneviratne/Library/CloudStorage/OneDrive-Uppsalauniversitet/Statistical Machine Learning/results_8191.csv')\n"
   ]
  }
 ],
 "metadata": {
  "kernelspec": {
   "display_name": "Python 3.9.12 ('base')",
   "language": "python",
   "name": "python3"
  },
  "language_info": {
   "codemirror_mode": {
    "name": "ipython",
    "version": 3
   },
   "file_extension": ".py",
   "mimetype": "text/x-python",
   "name": "python",
   "nbconvert_exporter": "python",
   "pygments_lexer": "ipython3",
   "version": "3.9.12"
  },
  "orig_nbformat": 4,
  "vscode": {
   "interpreter": {
    "hash": "7c15b10ab1573516f5b110d1ec5a6cdd301921bf6293fc77ccc4498a93ca5d7e"
   }
  }
 },
 "nbformat": 4,
 "nbformat_minor": 2
}
