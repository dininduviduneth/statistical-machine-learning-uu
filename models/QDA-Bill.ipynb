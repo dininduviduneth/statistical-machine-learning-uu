{
 "cells": [
  {
   "cell_type": "markdown",
   "id": "01028d3a",
   "metadata": {},
   "source": [
    "# QDA --Bill"
   ]
  },
  {
   "cell_type": "code",
   "execution_count": 2,
   "id": "b8caaad8",
   "metadata": {},
   "outputs": [],
   "source": [
    "import pandas as pd\n",
    "import matplotlib.pyplot as plt\n",
    "import numpy as np\n",
    "\n",
    "import sklearn.linear_model as skl_lm\n",
    "import sklearn.discriminant_analysis as skl_da\n",
    "from sklearn.model_selection import train_test_split\n",
    "\n",
    "from sklearn.preprocessing import StandardScaler"
   ]
  },
  {
   "cell_type": "markdown",
   "id": "36a60cab",
   "metadata": {},
   "source": [
    "### QDA"
   ]
  },
  {
   "cell_type": "code",
   "execution_count": 3,
   "id": "8ebfb5da",
   "metadata": {},
   "outputs": [],
   "source": [
    "# creating the data set (initial columns + new ones that we used in the data analysis)\n",
    "\n",
    "d = pd.read_csv(r\"C:\\Users\\billt\\OneDrive\\Desktop\\SML_project\\train.csv\")\n",
    "d[\"Number of words co-lead\"] = d[\"Number of words lead\"] - d[\"Difference in words lead and co-lead\"]\n",
    "d = d.drop( [\"Difference in words lead and co-lead\"], axis=\"columns\")\n",
    "d2 = pd.DataFrame()\n",
    "\n",
    "lead=list()\n",
    "colead=list()\n",
    "femrest=list()\n",
    "malerest=list()\n",
    "\n",
    "\n",
    "for i in range(1039):\n",
    "    lead.append(d.iloc[i,2] / d.iloc[i,1])\n",
    "    colead.append(d.iloc[i,13] / d.iloc[i,1])\n",
    "    femrest.append( (d.iloc[i,0] / d.iloc[i,1]))\n",
    "    malerest.append( (d.iloc[i,6] / d.iloc[i,1]))\n",
    "\n",
    "d2 = pd.DataFrame( {\"lead perc\":lead, \"colead perc\":colead, \"fem rest perc\":femrest, \"male rest perc\":malerest, \"Lead\":d[\"Lead\"], \"year\":d[\"Year\"], \"gross\":d[\"Gross\"] } )\n",
    "\n",
    "d[\"lead perc\"]=d2[\"lead perc\"]\n",
    "d[\"colead perc\"]=d2[\"colead perc\"]\n",
    "d[\"fem rest perc\"]=d2[\"fem rest perc\"]\n",
    "d[\"male rest perc\"]=d2[\"male rest perc\"]\n",
    "\n",
    "x=d[list(('Total words',\n",
    " 'Number of male actors',\n",
    " 'Number of female actors',\n",
    " 'Mean Age Male',\n",
    " 'Mean Age Female',\n",
    " 'Age Lead',\n",
    " 'Age Co-Lead',\n",
    " 'lead perc',\n",
    " 'colead perc',\n",
    " 'fem rest perc'))]\n",
    "y=d[\"Lead\"]"
   ]
  },
  {
   "cell_type": "code",
   "execution_count": 7,
   "id": "3114d97c",
   "metadata": {},
   "outputs": [
    {
     "data": {
      "text/plain": [
       "(0.9409499358151476, 0.9307692307692308)"
      ]
     },
     "execution_count": 7,
     "metadata": {},
     "output_type": "execute_result"
    }
   ],
   "source": [
    "from sklearn.model_selection import train_test_split\n",
    "\n",
    "x_train, x_test, y_train, y_test = train_test_split(x, y, random_state=4045)\n",
    "\n",
    "scaler1 = StandardScaler()\n",
    "scaler1.fit(x_train)\n",
    "x_train=scaler1.transform(x_train)\n",
    "x_train = pd.DataFrame(x_train)\n",
    "\n",
    "x_test=scaler1.transform(x_test)\n",
    "x_test = pd.DataFrame(x_test)\n",
    "\n",
    "qda = skl_da.QuadraticDiscriminantAnalysis()\n",
    "qda.fit(x_train, y_train)\n",
    "\n",
    "\n",
    "np.mean(qda.predict(x_train.iloc[:,])==y_train), np.mean(qda.predict(x_test.iloc[:,])==y_test)"
   ]
  }
 ],
 "metadata": {
  "kernelspec": {
   "display_name": "Python 3 (ipykernel)",
   "language": "python",
   "name": "python3"
  },
  "language_info": {
   "codemirror_mode": {
    "name": "ipython",
    "version": 3
   },
   "file_extension": ".py",
   "mimetype": "text/x-python",
   "name": "python",
   "nbconvert_exporter": "python",
   "pygments_lexer": "ipython3",
   "version": "3.10.5"
  }
 },
 "nbformat": 4,
 "nbformat_minor": 5
}
