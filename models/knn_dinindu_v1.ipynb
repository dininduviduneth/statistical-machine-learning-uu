{
 "cells": [
  {
   "cell_type": "markdown",
   "metadata": {},
   "source": [
    "# K-Nearest Neighbor Model Implementation"
   ]
  },
  {
   "cell_type": "markdown",
   "metadata": {},
   "source": [
    "### STEPS:\n",
    "\n",
    "#### INITIAL MODEL\n",
    "-------------\n",
    "\n",
    "1. Load train data (have to split this dataset as training and testing)\n",
    "2. Assess the requirement for normalization\n",
    "3. Normalize the data IF required\n",
    "4. Split train / test datasets\n",
    "5. Fit the model for K = 1 (write it in an iterable way)\n",
    "6. Predict test data --> build confusion matrix --> calculate accuracy / calculate missclassification error\n",
    "\n",
    "#### FEATURE ITERATION\n",
    "-----------------\n",
    "\n",
    "1. Write a function to get all possible feature combinations into a 2D list\n",
    "2. Parameterize INITIAL MODEL to take a set of features and predict\n",
    "3. Provide an output of the results (for each K value which gives the lowest Missclassification Error)\n",
    "\n",
    "#### FINAL MODEL EVALUATION\n",
    "----------------------\n",
    "\n",
    "1. Write a function to take feature combinations in iteratively and run the model\n",
    "2. Save the output of each iteration into a list to be taken for evaluation"
   ]
  },
  {
   "cell_type": "markdown",
   "metadata": {},
   "source": []
  },
  {
   "cell_type": "markdown",
   "metadata": {},
   "source": [
    "#### IMPORTS"
   ]
  },
  {
   "cell_type": "code",
   "execution_count": 36,
   "metadata": {},
   "outputs": [],
   "source": [
    "import numpy as np\n",
    "import pandas as pd\n",
    "import sklearn.neighbors as skl_nb\n",
    "import matplotlib.pyplot as plt\n",
    "\n",
    "import sys\n",
    "sys.path.append(\"..\")\n",
    "\n",
    "from utils.loading_data  import load_to_df_from_csv"
   ]
  },
  {
   "cell_type": "markdown",
   "metadata": {},
   "source": [
    "#### STEP 1: LOADING DATA"
   ]
  },
  {
   "cell_type": "code",
   "execution_count": 22,
   "metadata": {},
   "outputs": [],
   "source": [
    "data = load_to_df_from_csv(\"../data/train.csv\") # Loading the train.csv as the main dataset\n",
    "\n",
    "# Column Transformation to lowercase and underscored spaces\n",
    "data.columns = data.columns.str.replace(' ','_')\n",
    "data.columns = data.columns.str.replace('-','_')\n",
    "data.columns = data.columns.str.lower()"
   ]
  },
  {
   "cell_type": "markdown",
   "metadata": {},
   "source": [
    "### Exploring data"
   ]
  },
  {
   "cell_type": "code",
   "execution_count": 19,
   "metadata": {},
   "outputs": [
    {
     "data": {
      "text/plain": [
       "(1039, 14)"
      ]
     },
     "execution_count": 19,
     "metadata": {},
     "output_type": "execute_result"
    }
   ],
   "source": [
    "data.shape"
   ]
  },
  {
   "cell_type": "code",
   "execution_count": 23,
   "metadata": {},
   "outputs": [
    {
     "data": {
      "text/html": [
       "<div>\n",
       "<style scoped>\n",
       "    .dataframe tbody tr th:only-of-type {\n",
       "        vertical-align: middle;\n",
       "    }\n",
       "\n",
       "    .dataframe tbody tr th {\n",
       "        vertical-align: top;\n",
       "    }\n",
       "\n",
       "    .dataframe thead th {\n",
       "        text-align: right;\n",
       "    }\n",
       "</style>\n",
       "<table border=\"1\" class=\"dataframe\">\n",
       "  <thead>\n",
       "    <tr style=\"text-align: right;\">\n",
       "      <th></th>\n",
       "      <th>number_words_female</th>\n",
       "      <th>total_words</th>\n",
       "      <th>number_of_words_lead</th>\n",
       "      <th>difference_in_words_lead_and_co_lead</th>\n",
       "      <th>number_of_male_actors</th>\n",
       "      <th>year</th>\n",
       "      <th>number_of_female_actors</th>\n",
       "      <th>number_words_male</th>\n",
       "      <th>gross</th>\n",
       "      <th>mean_age_male</th>\n",
       "      <th>mean_age_female</th>\n",
       "      <th>age_lead</th>\n",
       "      <th>age_co_lead</th>\n",
       "    </tr>\n",
       "  </thead>\n",
       "  <tbody>\n",
       "    <tr>\n",
       "      <th>count</th>\n",
       "      <td>1039.000000</td>\n",
       "      <td>1039.000000</td>\n",
       "      <td>1039.000000</td>\n",
       "      <td>1039.000000</td>\n",
       "      <td>1039.000000</td>\n",
       "      <td>1039.000000</td>\n",
       "      <td>1039.000000</td>\n",
       "      <td>1039.000000</td>\n",
       "      <td>1039.000000</td>\n",
       "      <td>1039.000000</td>\n",
       "      <td>1039.000000</td>\n",
       "      <td>1039.000000</td>\n",
       "      <td>1039.000000</td>\n",
       "    </tr>\n",
       "    <tr>\n",
       "      <th>mean</th>\n",
       "      <td>2334.256015</td>\n",
       "      <td>11004.368624</td>\n",
       "      <td>4108.256978</td>\n",
       "      <td>2525.024062</td>\n",
       "      <td>7.767084</td>\n",
       "      <td>1999.862368</td>\n",
       "      <td>3.507218</td>\n",
       "      <td>4561.855630</td>\n",
       "      <td>111.149182</td>\n",
       "      <td>42.353766</td>\n",
       "      <td>35.929588</td>\n",
       "      <td>38.716073</td>\n",
       "      <td>35.486044</td>\n",
       "    </tr>\n",
       "    <tr>\n",
       "      <th>std</th>\n",
       "      <td>2157.216744</td>\n",
       "      <td>6817.397413</td>\n",
       "      <td>2981.251156</td>\n",
       "      <td>2498.747279</td>\n",
       "      <td>3.901439</td>\n",
       "      <td>10.406632</td>\n",
       "      <td>2.088526</td>\n",
       "      <td>3417.855987</td>\n",
       "      <td>151.761551</td>\n",
       "      <td>7.817110</td>\n",
       "      <td>8.957193</td>\n",
       "      <td>12.285902</td>\n",
       "      <td>12.046696</td>\n",
       "    </tr>\n",
       "    <tr>\n",
       "      <th>min</th>\n",
       "      <td>0.000000</td>\n",
       "      <td>1351.000000</td>\n",
       "      <td>318.000000</td>\n",
       "      <td>1.000000</td>\n",
       "      <td>1.000000</td>\n",
       "      <td>1939.000000</td>\n",
       "      <td>1.000000</td>\n",
       "      <td>0.000000</td>\n",
       "      <td>0.000000</td>\n",
       "      <td>19.000000</td>\n",
       "      <td>11.000000</td>\n",
       "      <td>11.000000</td>\n",
       "      <td>7.000000</td>\n",
       "    </tr>\n",
       "    <tr>\n",
       "      <th>25%</th>\n",
       "      <td>904.000000</td>\n",
       "      <td>6353.500000</td>\n",
       "      <td>2077.000000</td>\n",
       "      <td>814.500000</td>\n",
       "      <td>5.000000</td>\n",
       "      <td>1994.000000</td>\n",
       "      <td>2.000000</td>\n",
       "      <td>2139.500000</td>\n",
       "      <td>22.000000</td>\n",
       "      <td>37.480769</td>\n",
       "      <td>29.500000</td>\n",
       "      <td>30.000000</td>\n",
       "      <td>28.000000</td>\n",
       "    </tr>\n",
       "    <tr>\n",
       "      <th>50%</th>\n",
       "      <td>1711.000000</td>\n",
       "      <td>9147.000000</td>\n",
       "      <td>3297.000000</td>\n",
       "      <td>1834.000000</td>\n",
       "      <td>7.000000</td>\n",
       "      <td>2000.000000</td>\n",
       "      <td>3.000000</td>\n",
       "      <td>3824.000000</td>\n",
       "      <td>60.000000</td>\n",
       "      <td>42.600000</td>\n",
       "      <td>35.000000</td>\n",
       "      <td>38.000000</td>\n",
       "      <td>34.000000</td>\n",
       "    </tr>\n",
       "    <tr>\n",
       "      <th>75%</th>\n",
       "      <td>3030.500000</td>\n",
       "      <td>13966.500000</td>\n",
       "      <td>5227.000000</td>\n",
       "      <td>3364.000000</td>\n",
       "      <td>10.000000</td>\n",
       "      <td>2009.000000</td>\n",
       "      <td>5.000000</td>\n",
       "      <td>5887.500000</td>\n",
       "      <td>143.500000</td>\n",
       "      <td>47.333333</td>\n",
       "      <td>41.500000</td>\n",
       "      <td>46.000000</td>\n",
       "      <td>41.000000</td>\n",
       "    </tr>\n",
       "    <tr>\n",
       "      <th>max</th>\n",
       "      <td>17658.000000</td>\n",
       "      <td>67548.000000</td>\n",
       "      <td>28102.000000</td>\n",
       "      <td>25822.000000</td>\n",
       "      <td>29.000000</td>\n",
       "      <td>2015.000000</td>\n",
       "      <td>16.000000</td>\n",
       "      <td>31146.000000</td>\n",
       "      <td>1798.000000</td>\n",
       "      <td>71.000000</td>\n",
       "      <td>81.333333</td>\n",
       "      <td>81.000000</td>\n",
       "      <td>85.000000</td>\n",
       "    </tr>\n",
       "  </tbody>\n",
       "</table>\n",
       "</div>"
      ],
      "text/plain": [
       "       number_words_female   total_words  number_of_words_lead  \\\n",
       "count          1039.000000   1039.000000           1039.000000   \n",
       "mean           2334.256015  11004.368624           4108.256978   \n",
       "std            2157.216744   6817.397413           2981.251156   \n",
       "min               0.000000   1351.000000            318.000000   \n",
       "25%             904.000000   6353.500000           2077.000000   \n",
       "50%            1711.000000   9147.000000           3297.000000   \n",
       "75%            3030.500000  13966.500000           5227.000000   \n",
       "max           17658.000000  67548.000000          28102.000000   \n",
       "\n",
       "       difference_in_words_lead_and_co_lead  number_of_male_actors  \\\n",
       "count                           1039.000000            1039.000000   \n",
       "mean                            2525.024062               7.767084   \n",
       "std                             2498.747279               3.901439   \n",
       "min                                1.000000               1.000000   \n",
       "25%                              814.500000               5.000000   \n",
       "50%                             1834.000000               7.000000   \n",
       "75%                             3364.000000              10.000000   \n",
       "max                            25822.000000              29.000000   \n",
       "\n",
       "              year  number_of_female_actors  number_words_male        gross  \\\n",
       "count  1039.000000              1039.000000        1039.000000  1039.000000   \n",
       "mean   1999.862368                 3.507218        4561.855630   111.149182   \n",
       "std      10.406632                 2.088526        3417.855987   151.761551   \n",
       "min    1939.000000                 1.000000           0.000000     0.000000   \n",
       "25%    1994.000000                 2.000000        2139.500000    22.000000   \n",
       "50%    2000.000000                 3.000000        3824.000000    60.000000   \n",
       "75%    2009.000000                 5.000000        5887.500000   143.500000   \n",
       "max    2015.000000                16.000000       31146.000000  1798.000000   \n",
       "\n",
       "       mean_age_male  mean_age_female     age_lead  age_co_lead  \n",
       "count    1039.000000      1039.000000  1039.000000  1039.000000  \n",
       "mean       42.353766        35.929588    38.716073    35.486044  \n",
       "std         7.817110         8.957193    12.285902    12.046696  \n",
       "min        19.000000        11.000000    11.000000     7.000000  \n",
       "25%        37.480769        29.500000    30.000000    28.000000  \n",
       "50%        42.600000        35.000000    38.000000    34.000000  \n",
       "75%        47.333333        41.500000    46.000000    41.000000  \n",
       "max        71.000000        81.333333    81.000000    85.000000  "
      ]
     },
     "execution_count": 23,
     "metadata": {},
     "output_type": "execute_result"
    }
   ],
   "source": [
    "data.describe()"
   ]
  },
  {
   "cell_type": "markdown",
   "metadata": {},
   "source": [
    "### STEP 2 / 3: NORMALIZATION - To be done after the initial model implementation"
   ]
  },
  {
   "cell_type": "markdown",
   "metadata": {},
   "source": [
    "### STEP 4: SPLIT TRAIN / TEST DATASETS"
   ]
  },
  {
   "cell_type": "code",
   "execution_count": 32,
   "metadata": {},
   "outputs": [],
   "source": [
    "np.random.seed(1)\n",
    "trainI = np.random.choice(data.shape[0], size = 727, replace = False)\n",
    "trainIndex = data.index.isin(trainI)\n",
    "\n",
    "train = data.iloc[trainIndex]\n",
    "test = data.iloc[~trainIndex]\n",
    "\n",
    "X_train = train.iloc[:, 0:train.shape[1] - 1]\n",
    "X_test = test.iloc[:, 0:test.shape[1] - 1]\n",
    "Y_train = train.iloc[:, -1]\n",
    "Y_test = test.iloc[:, -1]"
   ]
  },
  {
   "cell_type": "markdown",
   "metadata": {},
   "source": [
    "### STEP 5: FIT K-NN MODEL TO DATA"
   ]
  },
  {
   "cell_type": "code",
   "execution_count": 48,
   "metadata": {},
   "outputs": [
    {
     "data": {
      "text/html": [
       "<style>#sk-container-id-7 {color: black;background-color: white;}#sk-container-id-7 pre{padding: 0;}#sk-container-id-7 div.sk-toggleable {background-color: white;}#sk-container-id-7 label.sk-toggleable__label {cursor: pointer;display: block;width: 100%;margin-bottom: 0;padding: 0.3em;box-sizing: border-box;text-align: center;}#sk-container-id-7 label.sk-toggleable__label-arrow:before {content: \"▸\";float: left;margin-right: 0.25em;color: #696969;}#sk-container-id-7 label.sk-toggleable__label-arrow:hover:before {color: black;}#sk-container-id-7 div.sk-estimator:hover label.sk-toggleable__label-arrow:before {color: black;}#sk-container-id-7 div.sk-toggleable__content {max-height: 0;max-width: 0;overflow: hidden;text-align: left;background-color: #f0f8ff;}#sk-container-id-7 div.sk-toggleable__content pre {margin: 0.2em;color: black;border-radius: 0.25em;background-color: #f0f8ff;}#sk-container-id-7 input.sk-toggleable__control:checked~div.sk-toggleable__content {max-height: 200px;max-width: 100%;overflow: auto;}#sk-container-id-7 input.sk-toggleable__control:checked~label.sk-toggleable__label-arrow:before {content: \"▾\";}#sk-container-id-7 div.sk-estimator input.sk-toggleable__control:checked~label.sk-toggleable__label {background-color: #d4ebff;}#sk-container-id-7 div.sk-label input.sk-toggleable__control:checked~label.sk-toggleable__label {background-color: #d4ebff;}#sk-container-id-7 input.sk-hidden--visually {border: 0;clip: rect(1px 1px 1px 1px);clip: rect(1px, 1px, 1px, 1px);height: 1px;margin: -1px;overflow: hidden;padding: 0;position: absolute;width: 1px;}#sk-container-id-7 div.sk-estimator {font-family: monospace;background-color: #f0f8ff;border: 1px dotted black;border-radius: 0.25em;box-sizing: border-box;margin-bottom: 0.5em;}#sk-container-id-7 div.sk-estimator:hover {background-color: #d4ebff;}#sk-container-id-7 div.sk-parallel-item::after {content: \"\";width: 100%;border-bottom: 1px solid gray;flex-grow: 1;}#sk-container-id-7 div.sk-label:hover label.sk-toggleable__label {background-color: #d4ebff;}#sk-container-id-7 div.sk-serial::before {content: \"\";position: absolute;border-left: 1px solid gray;box-sizing: border-box;top: 0;bottom: 0;left: 50%;z-index: 0;}#sk-container-id-7 div.sk-serial {display: flex;flex-direction: column;align-items: center;background-color: white;padding-right: 0.2em;padding-left: 0.2em;position: relative;}#sk-container-id-7 div.sk-item {position: relative;z-index: 1;}#sk-container-id-7 div.sk-parallel {display: flex;align-items: stretch;justify-content: center;background-color: white;position: relative;}#sk-container-id-7 div.sk-item::before, #sk-container-id-7 div.sk-parallel-item::before {content: \"\";position: absolute;border-left: 1px solid gray;box-sizing: border-box;top: 0;bottom: 0;left: 50%;z-index: -1;}#sk-container-id-7 div.sk-parallel-item {display: flex;flex-direction: column;z-index: 1;position: relative;background-color: white;}#sk-container-id-7 div.sk-parallel-item:first-child::after {align-self: flex-end;width: 50%;}#sk-container-id-7 div.sk-parallel-item:last-child::after {align-self: flex-start;width: 50%;}#sk-container-id-7 div.sk-parallel-item:only-child::after {width: 0;}#sk-container-id-7 div.sk-dashed-wrapped {border: 1px dashed gray;margin: 0 0.4em 0.5em 0.4em;box-sizing: border-box;padding-bottom: 0.4em;background-color: white;}#sk-container-id-7 div.sk-label label {font-family: monospace;font-weight: bold;display: inline-block;line-height: 1.2em;}#sk-container-id-7 div.sk-label-container {text-align: center;}#sk-container-id-7 div.sk-container {/* jupyter's `normalize.less` sets `[hidden] { display: none; }` but bootstrap.min.css set `[hidden] { display: none !important; }` so we also need the `!important` here to be able to override the default hidden behavior on the sphinx rendered scikit-learn.org. See: https://github.com/scikit-learn/scikit-learn/issues/21755 */display: inline-block !important;position: relative;}#sk-container-id-7 div.sk-text-repr-fallback {display: none;}</style><div id=\"sk-container-id-7\" class=\"sk-top-container\"><div class=\"sk-text-repr-fallback\"><pre>KNeighborsClassifier(n_neighbors=8)</pre><b>In a Jupyter environment, please rerun this cell to show the HTML representation or trust the notebook. <br />On GitHub, the HTML representation is unable to render, please try loading this page with nbviewer.org.</b></div><div class=\"sk-container\" hidden><div class=\"sk-item\"><div class=\"sk-estimator sk-toggleable\"><input class=\"sk-toggleable__control sk-hidden--visually\" id=\"sk-estimator-id-7\" type=\"checkbox\" checked><label for=\"sk-estimator-id-7\" class=\"sk-toggleable__label sk-toggleable__label-arrow\">KNeighborsClassifier</label><div class=\"sk-toggleable__content\"><pre>KNeighborsClassifier(n_neighbors=8)</pre></div></div></div></div></div>"
      ],
      "text/plain": [
       "KNeighborsClassifier(n_neighbors=8)"
      ]
     },
     "execution_count": 48,
     "metadata": {},
     "output_type": "execute_result"
    }
   ],
   "source": [
    "model = skl_nb.KNeighborsClassifier(n_neighbors = 8)\n",
    "model.fit(X_train, Y_train) # Fit the model to data"
   ]
  },
  {
   "cell_type": "markdown",
   "metadata": {},
   "source": [
    "### STEP 6: PREDICT TEST DATA"
   ]
  },
  {
   "cell_type": "code",
   "execution_count": 49,
   "metadata": {},
   "outputs": [
    {
     "name": "stdout",
     "output_type": "stream",
     "text": [
      "Confusion matrix:\n",
      "\n",
      "lead    Female  Male\n",
      "row_0               \n",
      "Female      22     6\n",
      "Male        61   223 \n",
      "\n",
      "Accuracy: 0.785\n"
     ]
    }
   ],
   "source": [
    "prediction = model.predict(X_test)\n",
    "print('Confusion matrix:\\n')\n",
    "print(pd.crosstab(prediction, Y_test), '\\n')\n",
    "print(f\"Accuracy: {np.mean(prediction == Y_test):.3f}\")"
   ]
  },
  {
   "cell_type": "markdown",
   "metadata": {},
   "source": [
    "### FINDING BEST K"
   ]
  },
  {
   "cell_type": "code",
   "execution_count": 52,
   "metadata": {},
   "outputs": [
    {
     "data": {
      "image/png": "[encoded data removed]",
      "text/plain": [
       "<Figure size 640x480 with 1 Axes>"
      ]
     },
     "metadata": {},
     "output_type": "display_data"
    }
   ],
   "source": [
    "misclassification = []\n",
    "for k in range(50): # Try n_neighbors = 1, 2, ...., 50\n",
    "    model = skl_nb.KNeighborsClassifier(n_neighbors=k+1)\n",
    "    model.fit(X_train, Y_train)\n",
    "    prediction = model.predict(X_test)\n",
    "    misclassification.append(np.mean(prediction != Y_test))\n",
    "K = np.linspace(1, 50, 50)\n",
    "plt.plot(K, misclassification,'.')\n",
    "plt.ylabel('Missclasification')\n",
    "plt.xlabel('Number of neighbors')\n",
    "plt.show()"
   ]
  },
  {
   "cell_type": "markdown",
   "metadata": {},
   "source": [
    "### TRIALS"
   ]
  }
 ],
 "metadata": {
  "kernelspec": {
   "display_name": "Python 3.9.12 ('base')",
   "language": "python",
   "name": "python3"
  },
  "language_info": {
   "codemirror_mode": {
    "name": "ipython",
    "version": 3
   },
   "file_extension": ".py",
   "mimetype": "text/x-python",
   "name": "python",
   "nbconvert_exporter": "python",
   "pygments_lexer": "ipython3",
   "version": "3.9.12"
  },
  "orig_nbformat": 4,
  "vscode": {
   "interpreter": {
    "hash": "7c15b10ab1573516f5b110d1ec5a6cdd301921bf6293fc77ccc4498a93ca5d7e"
   }
  }
 },
 "nbformat": 4,
 "nbformat_minor": 2
}
