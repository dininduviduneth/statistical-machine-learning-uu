{
 "cells": [
  {
   "cell_type": "code",
   "execution_count": 104,
   "metadata": {},
   "outputs": [],
   "source": [
    "import sys\n",
    "import pandas as pd\n",
    "import matplotlib.pyplot as plt\n",
    "import sklearn.ensemble as ske\n",
    "import numpy as np\n",
    "import sklearn.metrics as skm\n",
    "import sklearn.model_selection as skms\n",
    "import sklearn.tree as skt\n",
    "import sklearn.linear_model as sklm\n",
    "import sklearn.discriminant_analysis as skda\n",
    "from sklearn.model_selection import train_test_split\n",
    "\n",
    "sys.path.append(\"..\")\n",
    "from utils.loading_data  import load_to_df_from_csv\n",
    "df = load_to_df_from_csv(\"../data/train.csv\")\n",
    "\n",
    "for i in range(len(df)): #Loop to increment the lead words into female words or male words\n",
    "\n",
    "    if df.loc[i,\"Lead\"]==\"Female\":\n",
    "\n",
    "        df.loc[i,\"Number words female\"]=df.loc[i,\"Number words female\"]+df.loc[i,\"Number of words lead\"]\n",
    "    else:\n",
    "        df.loc[i,\"Number words male\"]=df.loc[i,\"Number words male\"]+df.loc[i,\"Number of words lead\"]\n",
    "df[\"difference_words_m_f\"]=df.iloc[:,7]-df.iloc[:,0] #Create new feature, the difference in words spoken between males and females.\n"
   ]
  },
  {
   "cell_type": "code",
   "execution_count": 105,
   "metadata": {},
   "outputs": [],
   "source": [
    "X=df.iloc[:,0:13]\n",
    "y=df.iloc[:,13]\n",
    "\n",
    "\n",
    "X_train, X_test, y_train, y_test = train_test_split(X, y, random_state=2) #Random split data 75,25\n",
    "\n",
    "X_train.reset_index(drop=True,inplace=True) #Reset index \n",
    "\n",
    "y_train.reset_index(drop=True,inplace=True) #Reset index\n",
    "\n",
    "# Function to produce an array of all feature combinations for lenghts larger than or equal to 8\n",
    "def get_all_feature_combinations(data_columns):\n",
    "    from itertools import chain, combinations\n",
    "    \"powerset([1,2,3]) --> () (1,) (2,) (3,) (1,2) (1,3) (2,3) (1,2,3)\"\n",
    "    feature_combinations = list(chain.from_iterable(combinations(data_columns, r) for r in range(len(data_columns)+1)))\n",
    "\n",
    "    feature_combinations_set = []\n",
    "    for feature_combination in feature_combinations:\n",
    "        feature_combination_set = []\n",
    "        for feature in feature_combination:\n",
    "            feature_combination_set.append(feature)\n",
    "        \n",
    "        if len(feature_combination_set)>=8:\n",
    "            feature_combinations_set.append(feature_combination_set)\n",
    "\n",
    "    return feature_combinations_set\n",
    "\n",
    "feature_combinations = get_all_feature_combinations(X.columns)"
   ]
  },
  {
   "cell_type": "code",
   "execution_count": 106,
   "metadata": {},
   "outputs": [
    {
     "data": {
      "text/plain": [
       "[0.9294292803970224,\n",
       " 'LogisticRegression(max_iter=10000)',\n",
       " ['Number words female',\n",
       "  'Number of words lead',\n",
       "  'Number of male actors',\n",
       "  'Number of female actors',\n",
       "  'Number words male',\n",
       "  'Mean Age Female',\n",
       "  'Age Lead',\n",
       "  'Age Co-Lead']]"
      ]
     },
     "execution_count": 106,
     "metadata": {},
     "output_type": "execute_result"
    }
   ],
   "source": [
    "#This cell implements Adaboost with base estimators logistic regression, decision tree and random forest, on train data using stratified K-folds \n",
    "#for all combinations of features of lenght larger than or equal to 8\n",
    "\n",
    "\n",
    "logistic_object=sklm.LogisticRegression(max_iter=10000) #A logistic model, with default solver\n",
    "\n",
    "decisiontree_object=skt.DecisionTreeClassifier(max_depth=10,criterion=\"entropy\") #A decision tree modele\n",
    "\n",
    "randomforest_object=ske.RandomForestClassifier(n_estimators=50,criterion=\"entropy\") #Random forest\n",
    "\n",
    "objects=[logistic_object,decisiontree_object,randomforest_object] \n",
    "\n",
    "X=X_train\n",
    "\n",
    "y=y_train\n",
    "\n",
    "\n",
    "k_folds_object=skms.StratifiedKFold(n_splits=10,shuffle=True,random_state=2) #A stratified K-fold object is created, to evaluate each model on 70% of the \n",
    "#original data\n",
    "Best=[0,\"method\",\"variable combination\"] #Temporary list for the best accuracy, with the best method, using the optimal variable combination\n",
    "\n",
    "for variables in feature_combinations:\n",
    "    \n",
    "    X=X_train.loc[:,variables]\n",
    "\n",
    "    for x in objects: #Iterate through each object\n",
    "        boosting_object=ske.AdaBoostClassifier(base_estimator=x,n_estimators=50)\n",
    "        acc_score = []\n",
    "        k_folds_object=skms.StratifiedKFold(n_splits=5,shuffle=True,random_state=2)\n",
    "\n",
    "        for train_index , test_index in k_folds_object.split(X,y): #Stratified K-fold\n",
    "            X_train1 , X_test1 = X.iloc[train_index,:],X.iloc[test_index,:]\n",
    "            y_train1 , y_test1 = y[train_index] , y[test_index]\n",
    "            \n",
    "            boosting_object.fit(X_train1,y_train1)\n",
    "\n",
    "            pred_values = boosting_object.predict(X_test1)\n",
    "            \n",
    "            acc = skm.accuracy_score(pred_values , y_test1)\n",
    "            acc_score.append(acc)\n",
    "        avg_acc_score = np.mean(acc_score)\n",
    "        if avg_acc_score>Best[0]:\n",
    "            Best[0]=avg_acc_score\n",
    "            Best[1]=str(x)\n",
    "            Best[2]=variables\n",
    "Best"
   ]
  },
  {
   "attachments": {},
   "cell_type": "markdown",
   "metadata": {},
   "source": [
    "One can see, based on the above exhaustive search over all feature combinations >= 8, base classifiers Logistic Regression, Decision tree and Random Forest, using a stratified K-folds accuracy metric as method of comparison, that the AdaBoost model with base clasifier Logistic Regression, using the features \" ['Number words female',\n",
    "  'Number of words lead',\n",
    "  'Number of male actors',\n",
    "  'Number of female actors',\n",
    "  'Number words male',\n",
    "  'Mean Age Female',\n",
    "  'Age Lead',\n",
    "  'Age Co-Lead']] \", provides the best accuracy.\n",
    "\n",
    "Next, we find the accuracy on unseen data:"
   ]
  },
  {
   "cell_type": "code",
   "execution_count": 107,
   "metadata": {},
   "outputs": [
    {
     "name": "stdout",
     "output_type": "stream",
     "text": [
      "0.9242618741976893\n",
      "0.8807692307692307\n"
     ]
    }
   ],
   "source": [
    "#Cell to evaluate the optimal boosted LR model from above on unseen test data\n",
    "\n",
    "X_train=X_train.loc[:,Best[2]]\n",
    "X_test=X_test.loc[:,Best[2]]\n",
    "\n",
    "boosted_logistic_object=ske.AdaBoostClassifier(base_estimator=logistic_object,n_estimators=10)\n",
    "boosted_logistic_object.fit(X_train,y_train)\n",
    "\n",
    "#Train accuracy\n",
    "pred=boosted_logistic_object.predict(X_train)\n",
    "print(skm.accuracy_score(pred,y_train))\n",
    "\n",
    "#Test accuracy\n",
    "pred=boosted_logistic_object.predict(X_test)\n",
    "print(skm.accuracy_score(pred,y_test))"
   ]
  }
 ],
 "metadata": {
  "kernelspec": {
   "display_name": "base",
   "language": "python",
   "name": "python3"
  },
  "language_info": {
   "codemirror_mode": {
    "name": "ipython",
    "version": 3
   },
   "file_extension": ".py",
   "mimetype": "text/x-python",
   "name": "python",
   "nbconvert_exporter": "python",
   "pygments_lexer": "ipython3",
   "version": "3.9.12"
  },
  "orig_nbformat": 4,
  "vscode": {
   "interpreter": {
    "hash": "6de4daa554a89464eaf3b05fe2101659a8f5db09bb7dd50343cc26143da45c29"
   }
  }
 },
 "nbformat": 4,
 "nbformat_minor": 2
}
