{
 "cells": [
  {
   "cell_type": "code",
   "execution_count": 1,
   "metadata": {},
   "outputs": [],
   "source": [
    "import sys\n",
    "import pandas as pd\n",
    "import matplotlib.pyplot as plt\n",
    "import sklearn.ensemble as ske\n",
    "import numpy as np\n",
    "import sklearn.metrics as skm\n",
    "import sklearn.model_selection as skms\n",
    "import sklearn.tree as skt\n",
    "import sklearn.linear_model as sklm\n",
    "import sklearn.discriminant_analysis as skda\n",
    "from sklearn.model_selection import train_test_split\n",
    "\n",
    "sys.path.append(\"..\")\n",
    "from utils.loading_data  import load_to_df_from_csv\n",
    "df = load_to_df_from_csv(\"../data/train.csv\")\n",
    "\n",
    "for i in range(len(df)): #Loop to increment the lead words into female words or male words\n",
    "\n",
    "    if df.loc[i,\"Lead\"]==\"Female\":\n",
    "\n",
    "        df.loc[i,\"Number words female\"]=df.loc[i,\"Number words female\"]+df.loc[i,\"Number of words lead\"]\n",
    "    else:\n",
    "        df.loc[i,\"Number words male\"]=df.loc[i,\"Number words male\"]+df.loc[i,\"Number of words lead\"]\n",
    "df[\"difference_words_m_f\"]=df.iloc[:,7]-df.iloc[:,0] #Create new feature, the difference in words spoken between males and females."
   ]
  },
  {
   "cell_type": "code",
   "execution_count": 2,
   "metadata": {},
   "outputs": [
    {
     "name": "stdout",
     "output_type": "stream",
     "text": [
      "Average accuracy for: LogisticRegression(max_iter=10000) 0.9191475191475191\n",
      "Average accuracy for: DecisionTreeClassifier(criterion='entropy', max_depth=10) 0.8562104562104563\n",
      "Average accuracy for: RandomForestClassifier(criterion='entropy') 0.8998834498834498\n"
     ]
    }
   ],
   "source": [
    "#This cell implements Adaboost with base estimators logistic regression, decision tree and random forest\n",
    "X=df.iloc[:,0:13]\n",
    "y=df.iloc[:,13]\n",
    "\n",
    "X_train, X_test, y_train, y_test = train_test_split(X, y, random_state=2) #Random split data 75,25\n",
    "\n",
    "X_train.reset_index(drop=True,inplace=True) #Reset index \n",
    "\n",
    "y_train.reset_index(drop=True,inplace=True) #Reset index\n",
    "\n",
    "\n",
    "logistic_object=sklm.LogisticRegression(max_iter=10000) #A logistic model, with default solver\n",
    "\n",
    "decisiontree_object=skt.DecisionTreeClassifier(max_depth=10,criterion=\"entropy\") #A decision tree modele\n",
    "\n",
    "randomforest_object=ske.RandomForestClassifier(n_estimators=100,criterion=\"entropy\") #Random forest\n",
    "\n",
    "objects=[logistic_object,decisiontree_object,randomforest_object] \n",
    "\n",
    "X=X_train\n",
    "\n",
    "y=y_train\n",
    "\n",
    "k_folds_object=skms.StratifiedKFold(n_splits=10,shuffle=True,random_state=2) #A stratified K-fold object is created, to evaluate each model on 70% of the \n",
    "#original data\n",
    "\n",
    "for x in objects: #Iterate through each object\n",
    "    boosting_object=ske.AdaBoostClassifier(base_estimator=x,n_estimators=100)\n",
    "    acc_score = []\n",
    "    k_folds_object=skms.StratifiedKFold(n_splits=10,shuffle=True,random_state=2)\n",
    "\n",
    "    for train_index , test_index in k_folds_object.split(X,y): #Stratified K-fold\n",
    "        X_train1 , X_test1 = X.iloc[train_index,:],X.iloc[test_index,:]\n",
    "        y_train1 , y_test1 = y[train_index] , y[test_index]\n",
    "        \n",
    "        boosting_object.fit(X_train1,y_train1)\n",
    "\n",
    "        pred_values = boosting_object.predict(X_test1)\n",
    "        \n",
    "        acc = skm.accuracy_score(pred_values , y_test1)\n",
    "        acc_score.append(acc)\n",
    "    avg_acc_score = np.mean(acc_score)\n",
    "    print(\"Average accuracy for:\",x,avg_acc_score) #Largest stratified k-fold accuracy comes from a boosted LR model.\n"
   ]
  },
  {
   "cell_type": "code",
   "execution_count": 3,
   "metadata": {},
   "outputs": [
    {
     "name": "stdout",
     "output_type": "stream",
     "text": [
      "0.9255455712451861\n",
      "0.8807692307692307\n"
     ]
    }
   ],
   "source": [
    "#Cell to evaluate the boosted LR model from above on unseen test data\n",
    "boosted_logistic_object=ske.AdaBoostClassifier(base_estimator=logistic_object,n_estimators=10)\n",
    "boosted_logistic_object.fit(X_train,y_train)\n",
    "\n",
    "#Train accuracy\n",
    "pred=boosted_logistic_object.predict(X_train)\n",
    "print(skm.accuracy_score(pred,y_train))\n",
    "\n",
    "#Test accuracy\n",
    "pred=boosted_logistic_object.predict(X_test)\n",
    "print(skm.accuracy_score(pred,y_test))"
   ]
  }
 ],
 "metadata": {
  "kernelspec": {
   "display_name": "base",
   "language": "python",
   "name": "python3"
  },
  "language_info": {
   "codemirror_mode": {
    "name": "ipython",
    "version": 3
   },
   "file_extension": ".py",
   "mimetype": "text/x-python",
   "name": "python",
   "nbconvert_exporter": "python",
   "pygments_lexer": "ipython3",
   "version": "3.9.12"
  },
  "orig_nbformat": 4,
  "vscode": {
   "interpreter": {
    "hash": "6de4daa554a89464eaf3b05fe2101659a8f5db09bb7dd50343cc26143da45c29"
   }
  }
 },
 "nbformat": 4,
 "nbformat_minor": 2
}
