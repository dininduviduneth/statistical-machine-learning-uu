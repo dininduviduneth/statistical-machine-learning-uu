{
 "cells": [
  {
   "cell_type": "markdown",
   "metadata": {},
   "source": [
    "#### IMPORTS"
   ]
  },
  {
   "cell_type": "code",
   "execution_count": 69,
   "metadata": {},
   "outputs": [],
   "source": [
    "import pandas as pd\n",
    "import numpy as np\n",
    "\n",
    "from sklearn.model_selection import train_test_split\n",
    "from sklearn.pipeline import make_pipeline\n",
    "from sklearn.preprocessing import StandardScaler\n",
    "from sklearn.neighbors import KNeighborsClassifier"
   ]
  },
  {
   "cell_type": "markdown",
   "metadata": {},
   "source": [
    "#### LOADING DATA"
   ]
  },
  {
   "cell_type": "code",
   "execution_count": 70,
   "metadata": {},
   "outputs": [],
   "source": [
    "# Loading the train.csv as the main dataset\n",
    "data = pd.read_csv(\"../data/train.csv\")\n",
    "\n",
    "# Column Transformation to lowercase and underscored spaces\n",
    "data.columns = data.columns.str.replace(' ', '_')\n",
    "data.columns = data.columns.str.replace('-', '_')\n",
    "data.columns = data.columns.str.lower()\n",
    "\n",
    "X = data.loc[:, data.columns != 'lead']\n",
    "y = data.loc[:, data.columns == 'lead']"
   ]
  },
  {
   "cell_type": "markdown",
   "metadata": {},
   "source": [
    "#### SPLITTING DATA"
   ]
  },
  {
   "cell_type": "code",
   "execution_count": 71,
   "metadata": {},
   "outputs": [
    {
     "data": {
      "text/plain": [
       "[(779, 13), (260, 13), (779, 1), (260, 1)]"
      ]
     },
     "execution_count": 71,
     "metadata": {},
     "output_type": "execute_result"
    }
   ],
   "source": [
    "X_train, X_test, y_train, y_test = train_test_split(X, y, random_state=2)\n",
    "[X_train.shape, X_test.shape, y_train.shape, y_test.shape]"
   ]
  },
  {
   "cell_type": "markdown",
   "metadata": {},
   "source": [
    "#### BUILD PIPELINE\n",
    "\n",
    "In this section we have built a pipeline to fit a KNN model for our training dataset and produce the training and testing accuracies. Within the pipeline we are using **SandardScaler** to scale our training data and then use **KNeighborsClassifier** to fitting and prediction. The output will be in the following format.\n",
    "\n",
    "Train Accuracy: XXXX\n",
    "Test Accuracy: XXXX"
   ]
  },
  {
   "cell_type": "code",
   "execution_count": 72,
   "metadata": {},
   "outputs": [
    {
     "name": "stdout",
     "output_type": "stream",
     "text": [
      "Train Accuracy: 0.8523748395378691\n",
      "Test Accuracy: 0.8076923076923077\n"
     ]
    }
   ],
   "source": [
    "pipe = make_pipeline(\n",
    "    StandardScaler(),\n",
    "    KNeighborsClassifier(n_neighbors = 12)\n",
    ")\n",
    "\n",
    "\"\"\"all_features = [\n",
    "        'number_words_female',\n",
    "        'total_words',\n",
    "        'number_of_words_lead',\n",
    "        'difference_in_words_lead_and_co_lead',\n",
    "        'number_of_male_actors',\n",
    "        'year',\n",
    "        'number_of_female_actors',\n",
    "        'number_words_male',\n",
    "        'gross',\n",
    "        'mean_age_male',\n",
    "        'mean_age_female',\n",
    "        'age_lead',\n",
    "        'age_co_lead'\n",
    "    ]\"\"\"\n",
    "\n",
    "selected_features = [\n",
    "        'number_words_female',\n",
    "        'total_words',\n",
    "        'number_of_words_lead',\n",
    "        'difference_in_words_lead_and_co_lead',\n",
    "        'number_of_male_actors',\n",
    "        'number_of_female_actors',\n",
    "        'number_words_male',\n",
    "        'mean_age_female',\n",
    "        'age_lead',\n",
    "        'age_co_lead'\n",
    "    ]\n",
    "\n",
    "pipe.fit(X_train[selected_features], y_train.to_numpy().reshape(-1, ))\n",
    "\n",
    "print(\"Train Accuracy: \" + str(pipe.score(X_train[selected_features], y_train.to_numpy().reshape(-1, ))))\n",
    "print(\"Test Accuracy: \" + str(pipe.score(X_test[selected_features], y_test.to_numpy().reshape(-1, ))))\n"
   ]
  }
 ],
 "metadata": {
  "kernelspec": {
   "display_name": "Python 3.9.12 ('base')",
   "language": "python",
   "name": "python3"
  },
  "language_info": {
   "codemirror_mode": {
    "name": "ipython",
    "version": 3
   },
   "file_extension": ".py",
   "mimetype": "text/x-python",
   "name": "python",
   "nbconvert_exporter": "python",
   "pygments_lexer": "ipython3",
   "version": "3.9.12"
  },
  "orig_nbformat": 4,
  "vscode": {
   "interpreter": {
    "hash": "7c15b10ab1573516f5b110d1ec5a6cdd301921bf6293fc77ccc4498a93ca5d7e"
   }
  }
 },
 "nbformat": 4,
 "nbformat_minor": 2
}
