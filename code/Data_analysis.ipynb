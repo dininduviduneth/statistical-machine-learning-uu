{
 "cells": [
  {
   "cell_type": "code",
   "execution_count": 1,
   "id": "2ce837d1",
   "metadata": {},
   "outputs": [],
   "source": [
    "import pandas as pd\n",
    "import numpy as np\n",
    "import matplotlib.pyplot as plt"
   ]
  },
  {
   "cell_type": "code",
   "execution_count": 2,
   "id": "52fcc3db",
   "metadata": {
    "scrolled": true
   },
   "outputs": [
    {
     "data": {
      "text/plain": [
       "pandas.core.frame.DataFrame"
      ]
     },
     "execution_count": 2,
     "metadata": {},
     "output_type": "execute_result"
    }
   ],
   "source": [
    "data= pd.read_csv(\"train.csv\")\n",
    "type(data)"
   ]
  },
  {
   "cell_type": "code",
   "execution_count": 3,
   "id": "3d01b8b1",
   "metadata": {
    "scrolled": true
   },
   "outputs": [
    {
     "data": {
      "text/plain": [
       "(1039, 14)"
      ]
     },
     "execution_count": 3,
     "metadata": {},
     "output_type": "execute_result"
    }
   ],
   "source": [
    "data.shape # 1039 rows (observations) and 14 columns (variables, 13 input variables and 1 dependent variable)"
   ]
  },
  {
   "cell_type": "code",
   "execution_count": 4,
   "id": "66fd5f94",
   "metadata": {
    "scrolled": false
   },
   "outputs": [
    {
     "data": {
      "text/html": [
       "<div>\n",
       "<style scoped>\n",
       "    .dataframe tbody tr th:only-of-type {\n",
       "        vertical-align: middle;\n",
       "    }\n",
       "\n",
       "    .dataframe tbody tr th {\n",
       "        vertical-align: top;\n",
       "    }\n",
       "\n",
       "    .dataframe thead th {\n",
       "        text-align: right;\n",
       "    }\n",
       "</style>\n",
       "<table border=\"1\" class=\"dataframe\">\n",
       "  <thead>\n",
       "    <tr style=\"text-align: right;\">\n",
       "      <th></th>\n",
       "      <th>Number words female</th>\n",
       "      <th>Total words</th>\n",
       "      <th>Number of words lead</th>\n",
       "      <th>Difference in words lead and co-lead</th>\n",
       "      <th>Number of male actors</th>\n",
       "      <th>Year</th>\n",
       "      <th>Number of female actors</th>\n",
       "      <th>Number words male</th>\n",
       "      <th>Gross</th>\n",
       "      <th>Mean Age Male</th>\n",
       "      <th>Mean Age Female</th>\n",
       "      <th>Age Lead</th>\n",
       "      <th>Age Co-Lead</th>\n",
       "      <th>Lead</th>\n",
       "    </tr>\n",
       "  </thead>\n",
       "  <tbody>\n",
       "    <tr>\n",
       "      <th>0</th>\n",
       "      <td>1512</td>\n",
       "      <td>6394</td>\n",
       "      <td>2251.0</td>\n",
       "      <td>343</td>\n",
       "      <td>2</td>\n",
       "      <td>1995</td>\n",
       "      <td>5</td>\n",
       "      <td>2631</td>\n",
       "      <td>142.0</td>\n",
       "      <td>51.500000</td>\n",
       "      <td>42.333333</td>\n",
       "      <td>46.0</td>\n",
       "      <td>65.0</td>\n",
       "      <td>Female</td>\n",
       "    </tr>\n",
       "    <tr>\n",
       "      <th>1</th>\n",
       "      <td>1524</td>\n",
       "      <td>8780</td>\n",
       "      <td>2020.0</td>\n",
       "      <td>1219</td>\n",
       "      <td>9</td>\n",
       "      <td>2001</td>\n",
       "      <td>4</td>\n",
       "      <td>5236</td>\n",
       "      <td>37.0</td>\n",
       "      <td>39.125000</td>\n",
       "      <td>29.333333</td>\n",
       "      <td>58.0</td>\n",
       "      <td>34.0</td>\n",
       "      <td>Male</td>\n",
       "    </tr>\n",
       "    <tr>\n",
       "      <th>2</th>\n",
       "      <td>155</td>\n",
       "      <td>4176</td>\n",
       "      <td>942.0</td>\n",
       "      <td>787</td>\n",
       "      <td>7</td>\n",
       "      <td>1968</td>\n",
       "      <td>1</td>\n",
       "      <td>3079</td>\n",
       "      <td>376.0</td>\n",
       "      <td>42.500000</td>\n",
       "      <td>37.000000</td>\n",
       "      <td>46.0</td>\n",
       "      <td>37.0</td>\n",
       "      <td>Male</td>\n",
       "    </tr>\n",
       "    <tr>\n",
       "      <th>3</th>\n",
       "      <td>1073</td>\n",
       "      <td>9855</td>\n",
       "      <td>3440.0</td>\n",
       "      <td>2623</td>\n",
       "      <td>12</td>\n",
       "      <td>2002</td>\n",
       "      <td>2</td>\n",
       "      <td>5342</td>\n",
       "      <td>19.0</td>\n",
       "      <td>35.222222</td>\n",
       "      <td>21.500000</td>\n",
       "      <td>33.0</td>\n",
       "      <td>23.0</td>\n",
       "      <td>Male</td>\n",
       "    </tr>\n",
       "    <tr>\n",
       "      <th>4</th>\n",
       "      <td>1317</td>\n",
       "      <td>7688</td>\n",
       "      <td>3835.0</td>\n",
       "      <td>3149</td>\n",
       "      <td>8</td>\n",
       "      <td>1988</td>\n",
       "      <td>4</td>\n",
       "      <td>2536</td>\n",
       "      <td>40.0</td>\n",
       "      <td>45.250000</td>\n",
       "      <td>45.000000</td>\n",
       "      <td>36.0</td>\n",
       "      <td>39.0</td>\n",
       "      <td>Male</td>\n",
       "    </tr>\n",
       "  </tbody>\n",
       "</table>\n",
       "</div>"
      ],
      "text/plain": [
       "   Number words female  Total words  Number of words lead  \\\n",
       "0                 1512         6394                2251.0   \n",
       "1                 1524         8780                2020.0   \n",
       "2                  155         4176                 942.0   \n",
       "3                 1073         9855                3440.0   \n",
       "4                 1317         7688                3835.0   \n",
       "\n",
       "   Difference in words lead and co-lead  Number of male actors  Year  \\\n",
       "0                                   343                      2  1995   \n",
       "1                                  1219                      9  2001   \n",
       "2                                   787                      7  1968   \n",
       "3                                  2623                     12  2002   \n",
       "4                                  3149                      8  1988   \n",
       "\n",
       "   Number of female actors  Number words male  Gross  Mean Age Male  \\\n",
       "0                        5               2631  142.0      51.500000   \n",
       "1                        4               5236   37.0      39.125000   \n",
       "2                        1               3079  376.0      42.500000   \n",
       "3                        2               5342   19.0      35.222222   \n",
       "4                        4               2536   40.0      45.250000   \n",
       "\n",
       "   Mean Age Female  Age Lead  Age Co-Lead    Lead  \n",
       "0        42.333333      46.0         65.0  Female  \n",
       "1        29.333333      58.0         34.0    Male  \n",
       "2        37.000000      46.0         37.0    Male  \n",
       "3        21.500000      33.0         23.0    Male  \n",
       "4        45.000000      36.0         39.0    Male  "
      ]
     },
     "execution_count": 4,
     "metadata": {},
     "output_type": "execute_result"
    }
   ],
   "source": [
    "data.head()"
   ]
  },
  {
   "cell_type": "code",
   "execution_count": 5,
   "id": "9abc4077",
   "metadata": {
    "scrolled": false
   },
   "outputs": [
    {
     "name": "stdout",
     "output_type": "stream",
     "text": [
      "<class 'pandas.core.frame.DataFrame'>\n",
      "RangeIndex: 1039 entries, 0 to 1038\n",
      "Data columns (total 14 columns):\n",
      " #   Column                                Non-Null Count  Dtype  \n",
      "---  ------                                --------------  -----  \n",
      " 0   Number words female                   1039 non-null   int64  \n",
      " 1   Total words                           1039 non-null   int64  \n",
      " 2   Number of words lead                  1039 non-null   float64\n",
      " 3   Difference in words lead and co-lead  1039 non-null   int64  \n",
      " 4   Number of male actors                 1039 non-null   int64  \n",
      " 5   Year                                  1039 non-null   int64  \n",
      " 6   Number of female actors               1039 non-null   int64  \n",
      " 7   Number words male                     1039 non-null   int64  \n",
      " 8   Gross                                 1039 non-null   float64\n",
      " 9   Mean Age Male                         1039 non-null   float64\n",
      " 10  Mean Age Female                       1039 non-null   float64\n",
      " 11  Age Lead                              1039 non-null   float64\n",
      " 12  Age Co-Lead                           1039 non-null   float64\n",
      " 13  Lead                                  1039 non-null   object \n",
      "dtypes: float64(6), int64(7), object(1)\n",
      "memory usage: 113.8+ KB\n"
     ]
    }
   ],
   "source": [
    "data.info()"
   ]
  },
  {
   "cell_type": "markdown",
   "id": "bc120455",
   "metadata": {},
   "source": [
    "Here we see that the training dataframe has no missing values. We also see the data type for each one of the features.\n",
    "We have 3 different data types: dtypes: float64(6), int64(7), object(1). For object see --> <https://pbpython.com/currency-cleanup.html>"
   ]
  },
  {
   "cell_type": "code",
   "execution_count": 6,
   "id": "2f97d5e9",
   "metadata": {
    "scrolled": true
   },
   "outputs": [
    {
     "data": {
      "text/html": [
       "<div>\n",
       "<style scoped>\n",
       "    .dataframe tbody tr th:only-of-type {\n",
       "        vertical-align: middle;\n",
       "    }\n",
       "\n",
       "    .dataframe tbody tr th {\n",
       "        vertical-align: top;\n",
       "    }\n",
       "\n",
       "    .dataframe thead th {\n",
       "        text-align: right;\n",
       "    }\n",
       "</style>\n",
       "<table border=\"1\" class=\"dataframe\">\n",
       "  <thead>\n",
       "    <tr style=\"text-align: right;\">\n",
       "      <th></th>\n",
       "      <th>Number words female</th>\n",
       "      <th>Total words</th>\n",
       "      <th>Number of words lead</th>\n",
       "      <th>Difference in words lead and co-lead</th>\n",
       "      <th>Number of male actors</th>\n",
       "      <th>Year</th>\n",
       "      <th>Number of female actors</th>\n",
       "      <th>Number words male</th>\n",
       "      <th>Gross</th>\n",
       "      <th>Mean Age Male</th>\n",
       "      <th>Mean Age Female</th>\n",
       "      <th>Age Lead</th>\n",
       "      <th>Age Co-Lead</th>\n",
       "    </tr>\n",
       "  </thead>\n",
       "  <tbody>\n",
       "    <tr>\n",
       "      <th>count</th>\n",
       "      <td>1039.000000</td>\n",
       "      <td>1039.000000</td>\n",
       "      <td>1039.000000</td>\n",
       "      <td>1039.000000</td>\n",
       "      <td>1039.000000</td>\n",
       "      <td>1039.000000</td>\n",
       "      <td>1039.000000</td>\n",
       "      <td>1039.000000</td>\n",
       "      <td>1039.000000</td>\n",
       "      <td>1039.000000</td>\n",
       "      <td>1039.000000</td>\n",
       "      <td>1039.000000</td>\n",
       "      <td>1039.000000</td>\n",
       "    </tr>\n",
       "    <tr>\n",
       "      <th>mean</th>\n",
       "      <td>2334.256015</td>\n",
       "      <td>11004.368624</td>\n",
       "      <td>4108.256978</td>\n",
       "      <td>2525.024062</td>\n",
       "      <td>7.767084</td>\n",
       "      <td>1999.862368</td>\n",
       "      <td>3.507218</td>\n",
       "      <td>4561.855630</td>\n",
       "      <td>111.149182</td>\n",
       "      <td>42.353766</td>\n",
       "      <td>35.929588</td>\n",
       "      <td>38.716073</td>\n",
       "      <td>35.486044</td>\n",
       "    </tr>\n",
       "    <tr>\n",
       "      <th>std</th>\n",
       "      <td>2157.216744</td>\n",
       "      <td>6817.397413</td>\n",
       "      <td>2981.251156</td>\n",
       "      <td>2498.747279</td>\n",
       "      <td>3.901439</td>\n",
       "      <td>10.406632</td>\n",
       "      <td>2.088526</td>\n",
       "      <td>3417.855987</td>\n",
       "      <td>151.761551</td>\n",
       "      <td>7.817110</td>\n",
       "      <td>8.957193</td>\n",
       "      <td>12.285902</td>\n",
       "      <td>12.046696</td>\n",
       "    </tr>\n",
       "    <tr>\n",
       "      <th>min</th>\n",
       "      <td>0.000000</td>\n",
       "      <td>1351.000000</td>\n",
       "      <td>318.000000</td>\n",
       "      <td>1.000000</td>\n",
       "      <td>1.000000</td>\n",
       "      <td>1939.000000</td>\n",
       "      <td>1.000000</td>\n",
       "      <td>0.000000</td>\n",
       "      <td>0.000000</td>\n",
       "      <td>19.000000</td>\n",
       "      <td>11.000000</td>\n",
       "      <td>11.000000</td>\n",
       "      <td>7.000000</td>\n",
       "    </tr>\n",
       "    <tr>\n",
       "      <th>25%</th>\n",
       "      <td>904.000000</td>\n",
       "      <td>6353.500000</td>\n",
       "      <td>2077.000000</td>\n",
       "      <td>814.500000</td>\n",
       "      <td>5.000000</td>\n",
       "      <td>1994.000000</td>\n",
       "      <td>2.000000</td>\n",
       "      <td>2139.500000</td>\n",
       "      <td>22.000000</td>\n",
       "      <td>37.480769</td>\n",
       "      <td>29.500000</td>\n",
       "      <td>30.000000</td>\n",
       "      <td>28.000000</td>\n",
       "    </tr>\n",
       "    <tr>\n",
       "      <th>50%</th>\n",
       "      <td>1711.000000</td>\n",
       "      <td>9147.000000</td>\n",
       "      <td>3297.000000</td>\n",
       "      <td>1834.000000</td>\n",
       "      <td>7.000000</td>\n",
       "      <td>2000.000000</td>\n",
       "      <td>3.000000</td>\n",
       "      <td>3824.000000</td>\n",
       "      <td>60.000000</td>\n",
       "      <td>42.600000</td>\n",
       "      <td>35.000000</td>\n",
       "      <td>38.000000</td>\n",
       "      <td>34.000000</td>\n",
       "    </tr>\n",
       "    <tr>\n",
       "      <th>75%</th>\n",
       "      <td>3030.500000</td>\n",
       "      <td>13966.500000</td>\n",
       "      <td>5227.000000</td>\n",
       "      <td>3364.000000</td>\n",
       "      <td>10.000000</td>\n",
       "      <td>2009.000000</td>\n",
       "      <td>5.000000</td>\n",
       "      <td>5887.500000</td>\n",
       "      <td>143.500000</td>\n",
       "      <td>47.333333</td>\n",
       "      <td>41.500000</td>\n",
       "      <td>46.000000</td>\n",
       "      <td>41.000000</td>\n",
       "    </tr>\n",
       "    <tr>\n",
       "      <th>max</th>\n",
       "      <td>17658.000000</td>\n",
       "      <td>67548.000000</td>\n",
       "      <td>28102.000000</td>\n",
       "      <td>25822.000000</td>\n",
       "      <td>29.000000</td>\n",
       "      <td>2015.000000</td>\n",
       "      <td>16.000000</td>\n",
       "      <td>31146.000000</td>\n",
       "      <td>1798.000000</td>\n",
       "      <td>71.000000</td>\n",
       "      <td>81.333333</td>\n",
       "      <td>81.000000</td>\n",
       "      <td>85.000000</td>\n",
       "    </tr>\n",
       "  </tbody>\n",
       "</table>\n",
       "</div>"
      ],
      "text/plain": [
       "       Number words female   Total words  Number of words lead  \\\n",
       "count          1039.000000   1039.000000           1039.000000   \n",
       "mean           2334.256015  11004.368624           4108.256978   \n",
       "std            2157.216744   6817.397413           2981.251156   \n",
       "min               0.000000   1351.000000            318.000000   \n",
       "25%             904.000000   6353.500000           2077.000000   \n",
       "50%            1711.000000   9147.000000           3297.000000   \n",
       "75%            3030.500000  13966.500000           5227.000000   \n",
       "max           17658.000000  67548.000000          28102.000000   \n",
       "\n",
       "       Difference in words lead and co-lead  Number of male actors  \\\n",
       "count                           1039.000000            1039.000000   \n",
       "mean                            2525.024062               7.767084   \n",
       "std                             2498.747279               3.901439   \n",
       "min                                1.000000               1.000000   \n",
       "25%                              814.500000               5.000000   \n",
       "50%                             1834.000000               7.000000   \n",
       "75%                             3364.000000              10.000000   \n",
       "max                            25822.000000              29.000000   \n",
       "\n",
       "              Year  Number of female actors  Number words male        Gross  \\\n",
       "count  1039.000000              1039.000000        1039.000000  1039.000000   \n",
       "mean   1999.862368                 3.507218        4561.855630   111.149182   \n",
       "std      10.406632                 2.088526        3417.855987   151.761551   \n",
       "min    1939.000000                 1.000000           0.000000     0.000000   \n",
       "25%    1994.000000                 2.000000        2139.500000    22.000000   \n",
       "50%    2000.000000                 3.000000        3824.000000    60.000000   \n",
       "75%    2009.000000                 5.000000        5887.500000   143.500000   \n",
       "max    2015.000000                16.000000       31146.000000  1798.000000   \n",
       "\n",
       "       Mean Age Male  Mean Age Female     Age Lead  Age Co-Lead  \n",
       "count    1039.000000      1039.000000  1039.000000  1039.000000  \n",
       "mean       42.353766        35.929588    38.716073    35.486044  \n",
       "std         7.817110         8.957193    12.285902    12.046696  \n",
       "min        19.000000        11.000000    11.000000     7.000000  \n",
       "25%        37.480769        29.500000    30.000000    28.000000  \n",
       "50%        42.600000        35.000000    38.000000    34.000000  \n",
       "75%        47.333333        41.500000    46.000000    41.000000  \n",
       "max        71.000000        81.333333    81.000000    85.000000  "
      ]
     },
     "execution_count": 6,
     "metadata": {},
     "output_type": "execute_result"
    }
   ],
   "source": [
    "data.describe()"
   ]
  },
  {
   "cell_type": "code",
   "execution_count": 7,
   "id": "faec5f37",
   "metadata": {},
   "outputs": [
    {
     "name": "stdout",
     "output_type": "stream",
     "text": [
      "17658.   \n",
      "67548.   \n",
      "28102.   \n",
      "25822.   \n",
      "   29.   \n",
      " 2015.   \n",
      "   16.   \n",
      "31146.   \n",
      " 1798.   \n",
      "   71.   \n",
      "   81.333\n",
      "   81.   \n",
      "   85.   \n"
     ]
    }
   ],
   "source": [
    "\n",
    "\n",
    "np.set_printoptions(suppress=True, precision = 3)\n",
    "a = data.describe()[7:8].to_numpy().reshape(-1, 1) # Notice that Lead variable does not appear\n",
    "print(str(a).replace(' [', '').replace('[', '').replace(']', ''))"
   ]
  },
  {
   "cell_type": "code",
   "execution_count": 8,
   "id": "488c93f1",
   "metadata": {},
   "outputs": [],
   "source": [
    "data['Lead'].replace({'Male':1, 'Female':0}, inplace = True)\n",
    "# When setting the argument inplace as True the DataFrame will be updated in place. \n",
    "# Otherwise, using inplace = False, which is the default value, would return a copy of the DataFrame."
   ]
  },
  {
   "cell_type": "code",
   "execution_count": 9,
   "id": "f53764c2",
   "metadata": {
    "scrolled": true
   },
   "outputs": [
    {
     "name": "stdout",
     "output_type": "stream",
     "text": [
      "<class 'pandas.core.frame.DataFrame'>\n",
      "RangeIndex: 1039 entries, 0 to 1038\n",
      "Data columns (total 14 columns):\n",
      " #   Column                                Non-Null Count  Dtype  \n",
      "---  ------                                --------------  -----  \n",
      " 0   Number words female                   1039 non-null   int64  \n",
      " 1   Total words                           1039 non-null   int64  \n",
      " 2   Number of words lead                  1039 non-null   float64\n",
      " 3   Difference in words lead and co-lead  1039 non-null   int64  \n",
      " 4   Number of male actors                 1039 non-null   int64  \n",
      " 5   Year                                  1039 non-null   int64  \n",
      " 6   Number of female actors               1039 non-null   int64  \n",
      " 7   Number words male                     1039 non-null   int64  \n",
      " 8   Gross                                 1039 non-null   float64\n",
      " 9   Mean Age Male                         1039 non-null   float64\n",
      " 10  Mean Age Female                       1039 non-null   float64\n",
      " 11  Age Lead                              1039 non-null   float64\n",
      " 12  Age Co-Lead                           1039 non-null   float64\n",
      " 13  Lead                                  1039 non-null   int64  \n",
      "dtypes: float64(6), int64(8)\n",
      "memory usage: 113.8 KB\n"
     ]
    }
   ],
   "source": [
    "data.info() # Now Lead is detected as an int dtype and it appears in the description (column Lead didn't appear in)"
   ]
  },
  {
   "cell_type": "code",
   "execution_count": 10,
   "id": "958a1af4",
   "metadata": {
    "scrolled": false
   },
   "outputs": [
    {
     "data": {
      "text/html": [
       "<div>\n",
       "<style scoped>\n",
       "    .dataframe tbody tr th:only-of-type {\n",
       "        vertical-align: middle;\n",
       "    }\n",
       "\n",
       "    .dataframe tbody tr th {\n",
       "        vertical-align: top;\n",
       "    }\n",
       "\n",
       "    .dataframe thead th {\n",
       "        text-align: right;\n",
       "    }\n",
       "</style>\n",
       "<table border=\"1\" class=\"dataframe\">\n",
       "  <thead>\n",
       "    <tr style=\"text-align: right;\">\n",
       "      <th></th>\n",
       "      <th>Number words female</th>\n",
       "      <th>Total words</th>\n",
       "      <th>Number of words lead</th>\n",
       "      <th>Difference in words lead and co-lead</th>\n",
       "      <th>Number of male actors</th>\n",
       "      <th>Year</th>\n",
       "      <th>Number of female actors</th>\n",
       "      <th>Number words male</th>\n",
       "      <th>Gross</th>\n",
       "      <th>Mean Age Male</th>\n",
       "      <th>Mean Age Female</th>\n",
       "      <th>Age Lead</th>\n",
       "      <th>Age Co-Lead</th>\n",
       "      <th>Lead</th>\n",
       "    </tr>\n",
       "  </thead>\n",
       "  <tbody>\n",
       "    <tr>\n",
       "      <th>count</th>\n",
       "      <td>1039.000000</td>\n",
       "      <td>1039.000000</td>\n",
       "      <td>1039.000000</td>\n",
       "      <td>1039.000000</td>\n",
       "      <td>1039.000000</td>\n",
       "      <td>1039.000000</td>\n",
       "      <td>1039.000000</td>\n",
       "      <td>1039.000000</td>\n",
       "      <td>1039.000000</td>\n",
       "      <td>1039.000000</td>\n",
       "      <td>1039.000000</td>\n",
       "      <td>1039.000000</td>\n",
       "      <td>1039.000000</td>\n",
       "      <td>1039.000000</td>\n",
       "    </tr>\n",
       "    <tr>\n",
       "      <th>mean</th>\n",
       "      <td>2334.256015</td>\n",
       "      <td>11004.368624</td>\n",
       "      <td>4108.256978</td>\n",
       "      <td>2525.024062</td>\n",
       "      <td>7.767084</td>\n",
       "      <td>1999.862368</td>\n",
       "      <td>3.507218</td>\n",
       "      <td>4561.855630</td>\n",
       "      <td>111.149182</td>\n",
       "      <td>42.353766</td>\n",
       "      <td>35.929588</td>\n",
       "      <td>38.716073</td>\n",
       "      <td>35.486044</td>\n",
       "      <td>0.755534</td>\n",
       "    </tr>\n",
       "    <tr>\n",
       "      <th>std</th>\n",
       "      <td>2157.216744</td>\n",
       "      <td>6817.397413</td>\n",
       "      <td>2981.251156</td>\n",
       "      <td>2498.747279</td>\n",
       "      <td>3.901439</td>\n",
       "      <td>10.406632</td>\n",
       "      <td>2.088526</td>\n",
       "      <td>3417.855987</td>\n",
       "      <td>151.761551</td>\n",
       "      <td>7.817110</td>\n",
       "      <td>8.957193</td>\n",
       "      <td>12.285902</td>\n",
       "      <td>12.046696</td>\n",
       "      <td>0.429977</td>\n",
       "    </tr>\n",
       "    <tr>\n",
       "      <th>min</th>\n",
       "      <td>0.000000</td>\n",
       "      <td>1351.000000</td>\n",
       "      <td>318.000000</td>\n",
       "      <td>1.000000</td>\n",
       "      <td>1.000000</td>\n",
       "      <td>1939.000000</td>\n",
       "      <td>1.000000</td>\n",
       "      <td>0.000000</td>\n",
       "      <td>0.000000</td>\n",
       "      <td>19.000000</td>\n",
       "      <td>11.000000</td>\n",
       "      <td>11.000000</td>\n",
       "      <td>7.000000</td>\n",
       "      <td>0.000000</td>\n",
       "    </tr>\n",
       "    <tr>\n",
       "      <th>25%</th>\n",
       "      <td>904.000000</td>\n",
       "      <td>6353.500000</td>\n",
       "      <td>2077.000000</td>\n",
       "      <td>814.500000</td>\n",
       "      <td>5.000000</td>\n",
       "      <td>1994.000000</td>\n",
       "      <td>2.000000</td>\n",
       "      <td>2139.500000</td>\n",
       "      <td>22.000000</td>\n",
       "      <td>37.480769</td>\n",
       "      <td>29.500000</td>\n",
       "      <td>30.000000</td>\n",
       "      <td>28.000000</td>\n",
       "      <td>1.000000</td>\n",
       "    </tr>\n",
       "    <tr>\n",
       "      <th>50%</th>\n",
       "      <td>1711.000000</td>\n",
       "      <td>9147.000000</td>\n",
       "      <td>3297.000000</td>\n",
       "      <td>1834.000000</td>\n",
       "      <td>7.000000</td>\n",
       "      <td>2000.000000</td>\n",
       "      <td>3.000000</td>\n",
       "      <td>3824.000000</td>\n",
       "      <td>60.000000</td>\n",
       "      <td>42.600000</td>\n",
       "      <td>35.000000</td>\n",
       "      <td>38.000000</td>\n",
       "      <td>34.000000</td>\n",
       "      <td>1.000000</td>\n",
       "    </tr>\n",
       "    <tr>\n",
       "      <th>75%</th>\n",
       "      <td>3030.500000</td>\n",
       "      <td>13966.500000</td>\n",
       "      <td>5227.000000</td>\n",
       "      <td>3364.000000</td>\n",
       "      <td>10.000000</td>\n",
       "      <td>2009.000000</td>\n",
       "      <td>5.000000</td>\n",
       "      <td>5887.500000</td>\n",
       "      <td>143.500000</td>\n",
       "      <td>47.333333</td>\n",
       "      <td>41.500000</td>\n",
       "      <td>46.000000</td>\n",
       "      <td>41.000000</td>\n",
       "      <td>1.000000</td>\n",
       "    </tr>\n",
       "    <tr>\n",
       "      <th>max</th>\n",
       "      <td>17658.000000</td>\n",
       "      <td>67548.000000</td>\n",
       "      <td>28102.000000</td>\n",
       "      <td>25822.000000</td>\n",
       "      <td>29.000000</td>\n",
       "      <td>2015.000000</td>\n",
       "      <td>16.000000</td>\n",
       "      <td>31146.000000</td>\n",
       "      <td>1798.000000</td>\n",
       "      <td>71.000000</td>\n",
       "      <td>81.333333</td>\n",
       "      <td>81.000000</td>\n",
       "      <td>85.000000</td>\n",
       "      <td>1.000000</td>\n",
       "    </tr>\n",
       "  </tbody>\n",
       "</table>\n",
       "</div>"
      ],
      "text/plain": [
       "       Number words female   Total words  Number of words lead  \\\n",
       "count          1039.000000   1039.000000           1039.000000   \n",
       "mean           2334.256015  11004.368624           4108.256978   \n",
       "std            2157.216744   6817.397413           2981.251156   \n",
       "min               0.000000   1351.000000            318.000000   \n",
       "25%             904.000000   6353.500000           2077.000000   \n",
       "50%            1711.000000   9147.000000           3297.000000   \n",
       "75%            3030.500000  13966.500000           5227.000000   \n",
       "max           17658.000000  67548.000000          28102.000000   \n",
       "\n",
       "       Difference in words lead and co-lead  Number of male actors  \\\n",
       "count                           1039.000000            1039.000000   \n",
       "mean                            2525.024062               7.767084   \n",
       "std                             2498.747279               3.901439   \n",
       "min                                1.000000               1.000000   \n",
       "25%                              814.500000               5.000000   \n",
       "50%                             1834.000000               7.000000   \n",
       "75%                             3364.000000              10.000000   \n",
       "max                            25822.000000              29.000000   \n",
       "\n",
       "              Year  Number of female actors  Number words male        Gross  \\\n",
       "count  1039.000000              1039.000000        1039.000000  1039.000000   \n",
       "mean   1999.862368                 3.507218        4561.855630   111.149182   \n",
       "std      10.406632                 2.088526        3417.855987   151.761551   \n",
       "min    1939.000000                 1.000000           0.000000     0.000000   \n",
       "25%    1994.000000                 2.000000        2139.500000    22.000000   \n",
       "50%    2000.000000                 3.000000        3824.000000    60.000000   \n",
       "75%    2009.000000                 5.000000        5887.500000   143.500000   \n",
       "max    2015.000000                16.000000       31146.000000  1798.000000   \n",
       "\n",
       "       Mean Age Male  Mean Age Female     Age Lead  Age Co-Lead         Lead  \n",
       "count    1039.000000      1039.000000  1039.000000  1039.000000  1039.000000  \n",
       "mean       42.353766        35.929588    38.716073    35.486044     0.755534  \n",
       "std         7.817110         8.957193    12.285902    12.046696     0.429977  \n",
       "min        19.000000        11.000000    11.000000     7.000000     0.000000  \n",
       "25%        37.480769        29.500000    30.000000    28.000000     1.000000  \n",
       "50%        42.600000        35.000000    38.000000    34.000000     1.000000  \n",
       "75%        47.333333        41.500000    46.000000    41.000000     1.000000  \n",
       "max        71.000000        81.333333    81.000000    85.000000     1.000000  "
      ]
     },
     "execution_count": 10,
     "metadata": {},
     "output_type": "execute_result"
    }
   ],
   "source": [
    "data.describe()"
   ]
  },
  {
   "cell_type": "markdown",
   "id": "25dc2a31",
   "metadata": {},
   "source": [
    "# Do men or women dominate speaking roles in Hollywood movies?"
   ]
  },
  {
   "cell_type": "code",
   "execution_count": 11,
   "id": "054aae93",
   "metadata": {
    "scrolled": true
   },
   "outputs": [
    {
     "data": {
      "image/png": "[encoded data removed]",
      "text/plain": [
       "<Figure size 432x288 with 1 Axes>"
      ]
     },
     "metadata": {
      "needs_background": "light"
     },
     "output_type": "display_data"
    }
   ],
   "source": [
    "Lead = data['Lead']\n",
    "plt.title('Histogram Lead variable')\n",
    "_ = plt.hist(Lead)"
   ]
  },
  {
   "cell_type": "code",
   "execution_count": 12,
   "id": "b88bb029",
   "metadata": {
    "scrolled": true
   },
   "outputs": [
    {
     "data": {
      "text/plain": [
       "0.7555341674687199"
      ]
     },
     "execution_count": 12,
     "metadata": {},
     "output_type": "execute_result"
    }
   ],
   "source": [
    "np.mean(Lead) # Same value that we can observe in the previous descriptive table"
   ]
  },
  {
   "cell_type": "code",
   "execution_count": 13,
   "id": "f228afa7",
   "metadata": {},
   "outputs": [
    {
     "data": {
      "text/plain": [
       "1    785\n",
       "0    254\n",
       "Name: Lead, dtype: int64"
      ]
     },
     "execution_count": 13,
     "metadata": {},
     "output_type": "execute_result"
    }
   ],
   "source": [
    "Lead.value_counts()"
   ]
  },
  {
   "cell_type": "markdown",
   "id": "d69c6e65",
   "metadata": {},
   "source": [
    "# Has the 'Lead' ratio between male and female changed over years?"
   ]
  },
  {
   "cell_type": "code",
   "execution_count": 14,
   "id": "e2587896",
   "metadata": {},
   "outputs": [],
   "source": [
    "df = data.drop(data[data.Lead == 0].index)"
   ]
  },
  {
   "cell_type": "code",
   "execution_count": 15,
   "id": "8ac68099",
   "metadata": {
    "scrolled": false
   },
   "outputs": [
    {
     "data": {
      "text/plain": [
       "(785, 14)"
      ]
     },
     "execution_count": 15,
     "metadata": {},
     "output_type": "execute_result"
    }
   ],
   "source": [
    "df.shape"
   ]
  },
  {
   "cell_type": "code",
   "execution_count": 16,
   "id": "488addc9",
   "metadata": {},
   "outputs": [
    {
     "data": {
      "text/plain": [
       "array([1995, 2001, 1968, 2002, 1988, 1997, 1980, 1973, 1977, 1999, 1990,\n",
       "       1984, 1992, 2000, 1989, 1996, 1994, 2003, 2006, 1993, 2010, 1985,\n",
       "       2008, 2004, 2005, 2007, 1981, 1991, 1986, 2009, 1998, 1982, 1978,\n",
       "       1987, 1960, 1975, 2013, 1983, 1939, 2011, 1979, 2012, 2014, 1972,\n",
       "       1954, 1958, 1974, 1976, 1959, 2015, 1949], dtype=int64)"
      ]
     },
     "execution_count": 16,
     "metadata": {},
     "output_type": "execute_result"
    }
   ],
   "source": [
    "n = data.Year.unique()\n",
    "n"
   ]
  },
  {
   "cell_type": "code",
   "execution_count": 17,
   "id": "fd9fa74d",
   "metadata": {},
   "outputs": [
    {
     "data": {
      "text/plain": [
       "array([1995, 1999, 1989, 1992, 2008, 2004, 1997, 1990, 2007, 2000, 2003,\n",
       "       1996, 1991, 1984, 2009, 2002, 1986, 2006, 2001, 1993, 2005, 1939,\n",
       "       1994, 1981, 2010, 2011, 1998, 2013, 2012, 2014, 1982, 1987, 1983,\n",
       "       1958, 1988, 1980, 1973, 1977, 2015, 1959], dtype=int64)"
      ]
     },
     "execution_count": 17,
     "metadata": {},
     "output_type": "execute_result"
    }
   ],
   "source": [
    "df2 = data.drop(data[data.Lead == 1].index)\n",
    "n2 = df2.Year.unique()\n",
    "n2"
   ]
  },
  {
   "cell_type": "code",
   "execution_count": 18,
   "id": "e02283a9",
   "metadata": {},
   "outputs": [],
   "source": [
    "x = data['Year'].value_counts() # Number of Lead Male and Female grouped by year\n",
    "y = df['Year'].value_counts() # Number of Lead Male by year\n",
    "ratio = y/x # Gender ratio across the years"
   ]
  },
  {
   "cell_type": "code",
   "execution_count": 19,
   "id": "b94c15d7",
   "metadata": {},
   "outputs": [
    {
     "data": {
      "text/plain": [
       "1039"
      ]
     },
     "execution_count": 19,
     "metadata": {},
     "output_type": "execute_result"
    }
   ],
   "source": [
    "sum(x) # The sum all of the counts is equal to the length of the dataset, which makes sense."
   ]
  },
  {
   "cell_type": "code",
   "execution_count": 21,
   "id": "96fd4f51",
   "metadata": {},
   "outputs": [
    {
     "data": {
      "image/png": "[encoded data removed]",
      "text/plain": [
       "<Figure size 1584x864 with 15 Axes>"
      ]
     },
     "metadata": {
      "needs_background": "light"
     },
     "output_type": "display_data"
    }
   ],
   "source": [
    "axes = data.hist(layout = (3,5), figsize = (22, 12), alpha = 1, color = \"dodgerblue\", edgecolor = \"black\", linewidth = 1)\n",
    "\n",
    "axes = axes.flatten().tolist()\n",
    "\n",
    "for ax in axes:\n",
    "    ax.spines['top'].set_visible(False)\n",
    "    ax.spines['right'].set_visible(False)\n",
    "    ax.grid(color = 'grey', linestyle='-', linewidth = 0.25, alpha = 0.5)\n",
    "\n",
    "    \n",
    "plt.savefig(\"histograms.svg\", format = \"svg\", dpi=300, transparent = True, bbox_inches = 'tight')\n",
    "plt.show() "
   ]
  },
  {
   "cell_type": "code",
   "execution_count": null,
   "id": "fbc64b85",
   "metadata": {},
   "outputs": [],
   "source": [
    "data.columns\n"
   ]
  },
  {
   "cell_type": "code",
   "execution_count": null,
   "id": "9b59d72c",
   "metadata": {},
   "outputs": [],
   "source": [
    "df1 = data.drop(columns = ['Number words male', 'Gross',\n",
    "       'Mean Age Male', 'Mean Age Female', 'Age Lead', 'Age Co-Lead', 'Lead'])\n",
    "df2 = data.drop(columns = ['Number words female', 'Total words', 'Number of words lead',\n",
    "       'Difference in words lead and co-lead', 'Number of male actors', 'Year',\n",
    "       'Number of female actors'])"
   ]
  },
  {
   "cell_type": "code",
   "execution_count": null,
   "id": "d7323205",
   "metadata": {},
   "outputs": [],
   "source": [
    "df1 = data.drop(columns = ['Number words male', 'Gross',\n",
    "       'Mean Age Male', 'Mean Age Female', 'Age Lead', 'Age Co-Lead', 'Lead'])\n",
    "df2 = data.drop(columns = ['Number words female', 'Total words', 'Number of words lead',\n",
    "       'Difference in words lead and co-lead', 'Number of male actors', 'Year',\n",
    "       'Number of female actors'])\n",
    "\n",
    "red_circle = dict(markerfacecolor = \"dodgerblue\", marker = 'o', markeredgecolor = 'dodgerblue')\n",
    "medianprops = dict(linestyle='-.', linewidth=2.5, color='firebrick')\n",
    "\n",
    "fig1, axs = plt.subplots(1, len(df1.columns), figsize = (50,10))\n",
    "\n",
    "\n",
    "for i, ax in enumerate(axs.flat):\n",
    "    ax.boxplot(df1.iloc[:,i], flierprops=red_circle, widths=0.5,  medianprops=medianprops)\n",
    "    if (i==3):\n",
    "        ax.set_title('Diff. words lead / co-lead', fontsize=30)\n",
    "    else:\n",
    "        ax.set_title(data.columns[i], fontsize=30)\n",
    "    ax.tick_params(axis='y', labelsize = 14)\n",
    "\n",
    "\n",
    "fig2, axs = plt.subplots(1, len(df2.columns), figsize = (50,10))\n",
    "\n",
    "\n",
    "\n",
    "for i, ax in enumerate(axs.flat):\n",
    "    ax.boxplot(df2.iloc[:,i], flierprops=red_circle, widths= 0.5, medianprops=medianprops)\n",
    "    ax.set_title(df2.columns[i], fontsize=30)\n",
    "    ax.tick_params(axis='y', labelsize = 14)\n",
    "\n",
    "fig1.savefig(\"boxplots1.svg\", format = \"svg\", dpi=300, transparent = True, bbox_inches = 'tight')\n",
    "fig2.savefig(\"boxplots2.svg\", format = \"svg\", dpi=300, transparent = True, bbox_inches = 'tight')"
   ]
  },
  {
   "cell_type": "code",
   "execution_count": null,
   "id": "33b30dd8",
   "metadata": {},
   "outputs": [],
   "source": [
    "fig, ax = plt.subplots(figsize=(17, 5))\n",
    "\n",
    "ax.set_yticks([0.2,0.4,0.5,0.6,0.8,1.0])\n",
    "plt.gca().get_yticklabels()[2].set_color(\"red\")\n",
    "\n",
    "\n",
    "ax.bar(n, ratio, color=\"dodgerblue\",\n",
    "        edgecolor = \"black\", linewidth = 1)\n",
    "plt.axhline(y = 0.5, color = 'r', linestyle = '-')\n",
    "#adds a title and axes labels\n",
    "ax.set_xlabel('Year',  fontsize=16)\n",
    "ax.set_ylabel('% male leading movies',  fontsize=16)\n",
    "\n",
    "#removing top and right borders\n",
    "ax.spines['top'].set_visible(False)\n",
    "ax.spines['right'].set_visible(False)\n",
    "\n",
    "plt.yticks(fontsize=16)\n",
    "plt.xticks(fontsize=16)\n",
    "#adds major gridlines\n",
    "ax.grid(color='grey', linestyle='-', linewidth=0.25, alpha=0.5)\n",
    "plt.savefig(\"years.svg\", format = \"svg\", dpi=300, transparent = True, bbox_inches = 'tight')"
   ]
  },
  {
   "cell_type": "markdown",
   "id": "371f3ec0",
   "metadata": {},
   "source": [
    " # Identify outliers via boxplots"
   ]
  },
  {
   "cell_type": "code",
   "execution_count": 22,
   "id": "4390940d",
   "metadata": {},
   "outputs": [
    {
     "data": {
      "image/png": "[encoded data removed]",
      "text/plain": [
       "<Figure size 1080x720 with 1 Axes>"
      ]
     },
     "metadata": {
      "needs_background": "light"
     },
     "output_type": "display_data"
    }
   ],
   "source": [
    "# boxplot = data.boxplot(figsize = (15,10), rot = 0, fontsize= '8', grid = False, vert=False) # All boxplots together"
   ]
  },
  {
   "cell_type": "code",
   "execution_count": null,
   "id": "880fb05c",
   "metadata": {
    "scrolled": false
   },
   "outputs": [],
   "source": [
    "# import matplotlib.pyplot as plt\n",
    "# import seaborn as sns\n",
    "\n",
    "# variables = data.select_dtypes(exclude=['object'])\n",
    "\n",
    "# for column in variables:\n",
    "#         plt.figure(figsize=(15,3))\n",
    "#         sns.boxplot(data=data, x=column)"
   ]
  },
  {
   "cell_type": "markdown",
   "id": "cb9d94c8",
   "metadata": {},
   "source": [
    "# Do films in which men do more speaking make a lot more money than films in which women speak more?"
   ]
  },
  {
   "cell_type": "code",
   "execution_count": 23,
   "id": "1f7619b1",
   "metadata": {},
   "outputs": [],
   "source": [
    "male = data.drop(data[data.Lead == 0].index) # Drop female values\n",
    "female = data.drop(data[data.Lead == 1].index) # Drop male values"
   ]
  },
  {
   "cell_type": "code",
   "execution_count": 30,
   "id": "2a3620f7",
   "metadata": {},
   "outputs": [
    {
     "data": {
      "text/plain": [
       "(115.16305732484076, 98.74409448818898)"
      ]
     },
     "execution_count": 30,
     "metadata": {},
     "output_type": "execute_result"
    }
   ],
   "source": [
    "np.mean(male['Gross']), np.mean(female['Gross'])"
   ]
  },
  {
   "cell_type": "code",
   "execution_count": 26,
   "id": "364754c5",
   "metadata": {},
   "outputs": [],
   "source": [
    "x1 = male.groupby(by='Year').agg('mean')['Gross']\n",
    "x2 = female.groupby(by='Year').agg('mean')['Gross']\n",
    "len(x2) # For some years there is no female Leading, we have to fill those years with 0's"
   ]
  },
  {
   "cell_type": "code",
   "execution_count": 28,
   "id": "38f4f81f",
   "metadata": {},
   "outputs": [
    {
     "data": {
      "image/png": "[encoded data removed]",
      "text/plain": [
       "<Figure size 432x288 with 1 Axes>"
      ]
     },
     "metadata": {
      "needs_background": "light"
     },
     "output_type": "display_data"
    }
   ],
   "source": [
    "# Male gross salary evolution by year\n",
    "plt.bar(n,x1)\n",
    "plt.rcParams[\"figure.figsize\"] = (16,4)"
   ]
  },
  {
   "cell_type": "code",
   "execution_count": 29,
   "id": "24721c1e",
   "metadata": {},
   "outputs": [
    {
     "data": {
      "image/png": "[encoded data removed]",
      "text/plain": [
       "<Figure size 1152x288 with 1 Axes>"
      ]
     },
     "metadata": {
      "needs_background": "light"
     },
     "output_type": "display_data"
    }
   ],
   "source": [
    "# Female gross salary evolution by year\n",
    "female_years = female.Year.unique() # Years where we have female observations\n",
    "plt.bar(female_years,x2)\n",
    "plt.rcParams[\"figure.figsize\"] = (16,4)"
   ]
  },
  {
   "cell_type": "markdown",
   "id": "e6291f06",
   "metadata": {},
   "source": [
    "# Automatic profile report with pandas"
   ]
  },
  {
   "cell_type": "code",
   "execution_count": null,
   "id": "13c9d8ec",
   "metadata": {},
   "outputs": [],
   "source": [
    "from pandas_profiling import ProfileReport\n",
    "\n",
    "profile = ProfileReport(data, title='Dataset Profiling Report', infer_dtypes=False)\n",
    "profile.to_notebook_iframe()\n",
    "# profile.to_file(\"report.html\")"
   ]
  },
  {
   "cell_type": "markdown",
   "id": "d22653e1",
   "metadata": {},
   "source": [
    "## Comments\n",
    "\n",
    "- Bivariant analysis (plot all the input variables against the 'Lead' variable).\n",
    "- How do we treat the outliers? Which values do we consider outliers? See boxplots.\n",
    "- Set al variables to int.\n",
    "- How do we treat correlation between variables? --> feature selection?"
   ]
  }
 ],
 "metadata": {
  "kernelspec": {
   "display_name": "Python 3 (ipykernel)",
   "language": "python",
   "name": "python3"
  },
  "language_info": {
   "codemirror_mode": {
    "name": "ipython",
    "version": 3
   },
   "file_extension": ".py",
   "mimetype": "text/x-python",
   "name": "python",
   "nbconvert_exporter": "python",
   "pygments_lexer": "ipython3",
   "version": "3.9.12"
  }
 },
 "nbformat": 4,
 "nbformat_minor": 5
}
