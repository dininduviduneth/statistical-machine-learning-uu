{
 "cells": [
  {
   "cell_type": "markdown",
   "id": "01028d3a",
   "metadata": {},
   "source": [
    "# Models --Bill"
   ]
  },
  {
   "cell_type": "markdown",
   "id": "bdeff676",
   "metadata": {},
   "source": [
    "### Logistic Regression"
   ]
  },
  {
   "cell_type": "code",
   "execution_count": null,
   "id": "ed725f10",
   "metadata": {},
   "outputs": [],
   "source": [
    "import warnings\n",
    "warnings.filterwarnings('ignore')\n",
    "results4 = pd.DataFrame({\"columns\":[] , \"train accuracy\":[] , \"test accuracy\":[] })\n",
    "\n",
    "\n",
    "for comb in combinations:\n",
    "    d = pd.read_csv(r\"C:\\Users\\billt\\OneDrive\\Desktop\\SML_project\\train.csv\")\n",
    "    \n",
    "    x = d.drop(\"Lead\", axis=\"columns\")\n",
    "    y = d[\"Lead\"]\n",
    "    \n",
    "    x = x.drop(list(set(x) - set(comb)), axis=\"columns\")\n",
    "    \n",
    "    I = [i for i in range(len(x))]\n",
    "    random.shuffle(I)\n",
    "\n",
    "    x_train = x.iloc[:3*int(np.ceil(len(I)/4)),]\n",
    "    y_train = y.iloc[:3*int(np.ceil(len(I)/4)),]\n",
    "\n",
    "    x_test = x.iloc[3*int(np.ceil(len(I)/4)):,]\n",
    "    y_test = y.iloc[3*int(np.ceil(len(I)/4)):,]\n",
    "    \n",
    "    scaler1 = StandardScaler()\n",
    "    scaler1.fit(x_train)\n",
    "    x_train=scaler1.transform(x_train)\n",
    "    x_train = pd.DataFrame(x_train)\n",
    "\n",
    "#     scaler2 = StandardScaler()\n",
    "#     scaler2.fit(x_test)\n",
    "    x_test=scaler1.transform(x_test)\n",
    "    x_test = pd.DataFrame(x_test)\n",
    "    \n",
    "    logreg = skl_lm.LogisticRegression(max_iter=1000000, solver=\"lbfgs\")\n",
    "    logreg.fit(x_train, y_train)\n",
    "    \n",
    "    l=list()\n",
    "    l.append(comb)\n",
    "    l.append(np.mean(logreg.predict(x_train.iloc[:,])==y_train))\n",
    "    l.append(np.mean(logreg.predict(x_test.iloc[:,])==y_test) )\n",
    "    \n",
    "    results4.loc[len(results4.index)] = l\n",
    "    "
   ]
  },
  {
   "cell_type": "code",
   "execution_count": null,
   "id": "1d399e3f",
   "metadata": {},
   "outputs": [],
   "source": [
    "results4.loc[results4[\"test accuracy\"]==max(results4[\"test accuracy\"])]"
   ]
  },
  {
   "cell_type": "markdown",
   "id": "36a60cab",
   "metadata": {},
   "source": [
    "### QDA"
   ]
  },
  {
   "cell_type": "code",
   "execution_count": null,
   "id": "d7a56af6",
   "metadata": {},
   "outputs": [],
   "source": [
    "results = pd.DataFrame({\"columns\":[] , \"train accuracy\":[] , \"test accuracy\":[] })\n",
    "\n",
    "\n",
    "for comb in combinations:\n",
    "    d = pd.read_csv(r\"C:\\Users\\billt\\OneDrive\\Desktop\\SML_project\\train.csv\")\n",
    "    \n",
    "    x = d.drop(\"Lead\", axis=\"columns\")\n",
    "    y = d[\"Lead\"]\n",
    "    \n",
    "    x = x.drop(list(set(x) - set(comb)), axis=\"columns\")\n",
    "    \n",
    "    I = [i for i in range(len(x))]\n",
    "    random.shuffle(I)\n",
    "\n",
    "    x_train = x.iloc[:3*int(np.ceil(len(I)/4)),]\n",
    "    y_train = y.iloc[:3*int(np.ceil(len(I)/4)),]\n",
    "\n",
    "    x_test = x.iloc[3*int(np.ceil(len(I)/4)):,]\n",
    "    y_test = y.iloc[3*int(np.ceil(len(I)/4)):,]\n",
    "    \n",
    "#     scaler1 = StandardScaler()\n",
    "#     scaler1.fit(x_train)\n",
    "#     x_train=scaler1.transform(x_train)\n",
    "#     x_train = pd.DataFrame(x_train)\n",
    "\n",
    "#     x_test=scaler1.transform(x_test)\n",
    "#     x_test = pd.DataFrame(x_test)\n",
    "    \n",
    "    qda = skl_da.QuadraticDiscriminantAnalysis()\n",
    "    qda.fit(x_train, y_train)\n",
    "    \n",
    "    l=list()\n",
    "    l.append(comb)\n",
    "    l.append(np.mean(qda.predict(x_train.iloc[:,])==y_train))\n",
    "    l.append(np.mean(qda.predict(x_test.iloc[:,])==y_test) )\n",
    "    \n",
    "    results.loc[len(results.index)] = l\n",
    "    \n",
    "    "
   ]
  },
  {
   "cell_type": "code",
   "execution_count": null,
   "id": "f5ba94ce",
   "metadata": {},
   "outputs": [],
   "source": [
    "results.loc[results[\"test accuracy\"]==max(results[\"test accuracy\"])]"
   ]
  },
  {
   "cell_type": "markdown",
   "id": "67fa0669",
   "metadata": {},
   "source": [
    "### LDA"
   ]
  },
  {
   "cell_type": "code",
   "execution_count": null,
   "id": "2a4b8190",
   "metadata": {},
   "outputs": [],
   "source": [
    "results3 = pd.DataFrame({\"columns\":[] , \"train accuracy\":[] , \"test accuracy\":[] })\n",
    "\n",
    "\n",
    "for comb in combinations:\n",
    "    d = pd.read_csv(r\"C:\\Users\\billt\\OneDrive\\Desktop\\SML_project\\train.csv\")\n",
    "    \n",
    "    x = d.drop(\"Lead\", axis=\"columns\")\n",
    "    y = d[\"Lead\"]\n",
    "    \n",
    "    x = x.drop(list(set(x) - set(comb)), axis=\"columns\")\n",
    "    \n",
    "    I = [i for i in range(len(x))]\n",
    "    random.shuffle(I)\n",
    "\n",
    "    x_train = x.iloc[:3*int(np.ceil(len(I)/4)),]\n",
    "    y_train = y.iloc[:3*int(np.ceil(len(I)/4)),]\n",
    "\n",
    "    x_test = x.iloc[3*int(np.ceil(len(I)/4)):,]\n",
    "    y_test = y.iloc[3*int(np.ceil(len(I)/4)):,]\n",
    "    \n",
    "#     scaler1 = StandardScaler()\n",
    "#     scaler1.fit(x_train)\n",
    "#     x_train=scaler1.transform(x_train)\n",
    "#     x_train = pd.DataFrame(x_train)\n",
    "\n",
    "#     x_test=scaler1.transform(x_test)\n",
    "#     x_test = pd.DataFrame(x_test)\n",
    "    \n",
    "    lda = skl_da.LinearDiscriminantAnalysis(solver=\"svd\")\n",
    "    lda.fit(x_train, y_train)\n",
    "    \n",
    "    l=list()\n",
    "    l.append(comb)\n",
    "    l.append(np.mean(lda.predict(x_train.iloc[:,])==y_train))\n",
    "    l.append(np.mean(lda.predict(x_test.iloc[:,])==y_test) )\n",
    "    \n",
    "    results3.loc[len(results3.index)] = l\n",
    "    \n",
    "    "
   ]
  },
  {
   "cell_type": "code",
   "execution_count": null,
   "id": "793ef357",
   "metadata": {},
   "outputs": [],
   "source": [
    "results3.loc[results3[\"test accuracy\"]==max(results3[\"test accuracy\"])]"
   ]
  }
 ],
 "metadata": {
  "kernelspec": {
   "display_name": "Python 3 (ipykernel)",
   "language": "python",
   "name": "python3"
  },
  "language_info": {
   "codemirror_mode": {
    "name": "ipython",
    "version": 3
   },
   "file_extension": ".py",
   "mimetype": "text/x-python",
   "name": "python",
   "nbconvert_exporter": "python",
   "pygments_lexer": "ipython3",
   "version": "3.10.5"
  }
 },
 "nbformat": 4,
 "nbformat_minor": 5
}
