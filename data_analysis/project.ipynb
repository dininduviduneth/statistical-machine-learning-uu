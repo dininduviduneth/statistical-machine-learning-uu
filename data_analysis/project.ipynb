{
 "cells": [
  {
   "cell_type": "code",
   "execution_count": 9,
   "metadata": {},
   "outputs": [],
   "source": [
    "import pandas as pd\n",
    "import collections\n",
    "import matplotlib.pyplot as plt\n",
    "import sklearn.ensemble as ske\n",
    "import numpy as np\n",
    "import sklearn.metrics as skm\n"
   ]
  },
  {
   "cell_type": "code",
   "execution_count": 10,
   "metadata": {},
   "outputs": [
    {
     "data": {
      "text/plain": [
       "(887.0475434920338, 3568.1516865368403)"
      ]
     },
     "execution_count": 10,
     "metadata": {},
     "output_type": "execute_result"
    }
   ],
   "source": [
    "df = pd.read_csv(\"/Users/liamtabibzadeh/Documents/sml/sml-project-g20/data/train.csv\", na_values='?')\n",
    "\n",
    "df[\"difference_words_m_f\"]=df.iloc[:,7]-df.iloc[:,0]\n",
    "\n",
    "mean_difference=np.mean(df.difference_words_m_f)\n",
    "def compute_epsilon(alpha,n,a,b):\n",
    "    return np.sqrt((b-a)**2*np.log(2/alpha)/(2*n))\n",
    "\n",
    "alpha = 0.05\n",
    "n = len(df)\n",
    "a = min(df.difference_words_m_f)\n",
    "b = max(df.difference_words_m_f)\n",
    "delta = compute_epsilon(alpha,n,a,b)\n",
    "con=(mean_difference-delta,mean_difference+delta)\n",
    "con"
   ]
  },
  {
   "cell_type": "code",
   "execution_count": 11,
   "metadata": {},
   "outputs": [],
   "source": [
    "\n",
    "def year_sum(df):\n",
    "    dictt={}\n",
    "    for i in range(len(df)):\n",
    "        current_year=df.loc[i,\"Year\"]\n",
    "        if current_year in dictt:\n",
    "            dictt[current_year]=dictt[current_year] + df.loc[i,\"difference_words_m_f\"]\n",
    "        else:\n",
    "            dictt[current_year]=df.loc[i,\"difference_words_m_f\"]\n",
    "    return dictt\n",
    "d=year_sum(df)\n",
    "d=collections.OrderedDict(sorted(d.items()))\n",
    "x=list(d.keys())\n",
    "y=list(d.values())\n",
    "#plt.scatter(x,y)\n"
   ]
  },
  {
   "cell_type": "code",
   "execution_count": 12,
   "metadata": {},
   "outputs": [],
   "source": [
    "\n",
    "###CI for Gross for male dominating movies\n",
    "alpha = 0.05\n",
    "n = len(df.loc[ df[\"difference_words_m_f\"]>0 ])\n",
    "a = min(df.loc[ df[\"difference_words_m_f\"]>0 ,\"Gross\"])\n",
    "b = max(df.loc[ df[\"difference_words_m_f\"]>0 ,\"Gross\"])\n",
    "delta = compute_epsilon(alpha,n,a,b)\n",
    "mean_gross_male=np.mean(df.loc[ df[\"difference_words_m_f\"]>0 ,\"Gross\"])\n",
    "confidence_I_male=(mean_gross_male-delta,mean_gross_male+delta)\n",
    "\n",
    "###CI for Gross for female dominating movies\n",
    "alpha = 0.05\n",
    "n = len(df.loc[ df[\"difference_words_m_f\"]<0 ])\n",
    "a = min(df.loc[ df[\"difference_words_m_f\"]<0 ,\"Gross\"])\n",
    "b = max(df.loc[ df[\"difference_words_m_f\"]<0 ,\"Gross\"])\n",
    "delta = compute_epsilon(alpha,n,a,b)\n",
    "mean_gross_female=np.mean(df.loc[ df[\"difference_words_m_f\"]<0 ,\"Gross\"])\n",
    "confidence_I_female=(mean_gross_female-delta,mean_gross_female+delta)"
   ]
  },
  {
   "cell_type": "code",
   "execution_count": 17,
   "metadata": {},
   "outputs": [
    {
     "name": "stdout",
     "output_type": "stream",
     "text": [
      "Average accuracy for: LogisticRegression(max_iter=10000) 0.8527352501867064\n",
      "Average accuracy for: DecisionTreeClassifier(criterion='entropy', max_depth=10) 0.8228715459297982\n",
      "Average accuracy for: RandomForestClassifier(criterion='entropy') 0.845995145631068\n"
     ]
    }
   ],
   "source": [
    "import sklearn.model_selection as skms\n",
    "import numpy as np\n",
    "import sklearn.tree as skt\n",
    "import sklearn.linear_model as sklm\n",
    "import random\n",
    "import sklearn.discriminant_analysis as skda\n",
    "random.seed(2)\n",
    "logistic_object=sklm.LogisticRegression(max_iter=10000)\n",
    "decisiontree_object=skt.DecisionTreeClassifier(max_depth=10,criterion=\"entropy\")\n",
    "randomforest_object=ske.RandomForestClassifier(n_estimators=100,criterion=\"entropy\")\n",
    "objects=[logistic_object,decisiontree_object,randomforest_object]\n",
    "for x in objects:\n",
    "    boosting_object=ske.AdaBoostClassifier(base_estimator=x,n_estimators=10)\n",
    "    X=df.iloc[:,0:13]\n",
    "    y=df.iloc[:,13]\n",
    "    k_folds_object=skms.StratifiedKFold(n_splits=10,shuffle=True)\n",
    "\n",
    "    acc_score = []\n",
    "    for train_index , test_index in k_folds_object.split(X,y):\n",
    "        X_train , X_test = X.iloc[train_index,:],X.iloc[test_index,:]\n",
    "        y_train , y_test = y[train_index] , y[test_index]\n",
    "        \n",
    "        boosting_object.fit(X_train,y_train)\n",
    "        pred_values = boosting_object.predict(X_test)\n",
    "        \n",
    "        acc = skm.accuracy_score(pred_values , y_test)\n",
    "        acc_score.append(acc)\n",
    "    avg_acc_score = np.mean(acc_score)\n",
    "    print(\"Average accuracy for:\",x,avg_acc_score)"
   ]
  },
  {
   "cell_type": "code",
   "execution_count": null,
   "metadata": {},
   "outputs": [],
   "source": []
  }
 ],
 "metadata": {
  "kernelspec": {
   "display_name": "Python 3.9.12 ('base')",
   "language": "python",
   "name": "python3"
  },
  "language_info": {
   "codemirror_mode": {
    "name": "ipython",
    "version": 3
   },
   "file_extension": ".py",
   "mimetype": "text/x-python",
   "name": "python",
   "nbconvert_exporter": "python",
   "pygments_lexer": "ipython3",
   "version": "3.9.12"
  },
  "orig_nbformat": 4,
  "vscode": {
   "interpreter": {
    "hash": "6de4daa554a89464eaf3b05fe2101659a8f5db09bb7dd50343cc26143da45c29"
   }
  }
 },
 "nbformat": 4,
 "nbformat_minor": 2
}
