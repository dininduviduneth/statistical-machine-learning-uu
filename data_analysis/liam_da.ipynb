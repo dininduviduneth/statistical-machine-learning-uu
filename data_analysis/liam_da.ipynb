{
 "cells": [
  {
   "cell_type": "code",
   "execution_count": 15,
   "metadata": {},
   "outputs": [
    {
     "data": {
      "text/plain": [
       "{'_id': '5f85a7e0b06a75384d61bd13',\n",
       " 'index': 0,\n",
       " 'guid': 'b0d99e78-3968-42f8-823a-951b629c83fe',\n",
       " 'isActive': False,\n",
       " 'balance': '$1,801.02',\n",
       " 'picture': 'http://placehold.it/32x32',\n",
       " 'age': 30,\n",
       " 'eyeColor': 'green',\n",
       " 'name': 'Laura Pitts',\n",
       " 'gender': 'female',\n",
       " 'company': 'ZUVY',\n",
       " 'email': 'laurapitts@zuvy.com',\n",
       " 'phone': '+1 (872) 536-2446',\n",
       " 'address': '123 Montague Street, Waterview, Maryland, 3198',\n",
       " 'about': 'Nisi commodo anim proident dolore qui commodo elit commodo magna veniam. Amet incididunt consequat esse do. Occaecat amet cupidatat deserunt veniam. Deserunt ad tempor nostrud amet. Enim exercitation ut laborum consectetur. Excepteur id enim anim commodo enim do adipisicing cupidatat. Enim consectetur eu nisi aliqua aute occaecat aliquip ut occaecat.\\r\\n',\n",
       " 'registered': '2018-10-04T01:22:24 -02:00',\n",
       " 'latitude': 82.506427,\n",
       " 'longitude': -95.516749,\n",
       " 'tags': ['laboris', 'qui', 'sunt', 'enim', 'qui', 'tempor', 'quis'],\n",
       " 'friends': [{'id': 0, 'name': 'Madden Greer'},\n",
       "  {'id': 1, 'name': 'Jeanne Solis'},\n",
       "  {'id': 2, 'name': 'Candice Horn'}],\n",
       " 'greeting': 'Hello, Laura Pitts! You have 3 unread messages.',\n",
       " 'favoriteFruit': 'banana'}"
      ]
     },
     "execution_count": 15,
     "metadata": {},
     "output_type": "execute_result"
    }
   ],
   "source": [
    "import json\n",
    "f = open('customers.json')\n",
    "data = json.load(f)\n",
    "data[0]"
   ]
  }
 ],
 "metadata": {
  "kernelspec": {
   "display_name": "Python 3.9.12 ('base')",
   "language": "python",
   "name": "python3"
  },
  "language_info": {
   "codemirror_mode": {
    "name": "ipython",
    "version": 3
   },
   "file_extension": ".py",
   "mimetype": "text/x-python",
   "name": "python",
   "nbconvert_exporter": "python",
   "pygments_lexer": "ipython3",
   "version": "3.9.12"
  },
  "orig_nbformat": 4,
  "vscode": {
   "interpreter": {
    "hash": "6de4daa554a89464eaf3b05fe2101659a8f5db09bb7dd50343cc26143da45c29"
   }
  }
 },
 "nbformat": 4,
 "nbformat_minor": 2
}
